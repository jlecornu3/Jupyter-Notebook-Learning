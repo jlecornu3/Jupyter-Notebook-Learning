{
 "cells": [
  {
   "cell_type": "markdown",
   "metadata": {},
   "source": [
    "# Section 1: Data Overview\n",
    "Time spent: 1 hr 5m\n",
    "\n",
    "-----\n",
    "\n",
    "## Source a: _\"Extracted bank account statements of various bank accounts\"_\n",
    "* Description: Consolidated and extracted bank account statments available via open source at the following link https://www.kaggle.com/apoorvwatsky/bank-transaction-data?select=bank.xlsx\n",
    "* Goal was to categorise similar transactions via text data on narratives for the purpose of detecting criminal and fraudulent activity. \n",
    "* File name: _\"bank.xlsx\"_\n",
    "* Obtained via direct web download, no scraping needed.\n",
    "\n",
    "\n",
    "### Features:\n",
    "* Account number\n",
    "* Date\n",
    "* Narrative\n",
    "* Date\n",
    "* Withdrawal / deposit \n",
    "* Amount \n",
    "* Balance\n",
    "\n",
    "## Source b: _\"1999 Czech Financial Dataset - Real Anonymized Transactions\"_\n",
    "* Description: Data from a real Czech bank covering accounts from 1999. Several different sub-datasets are available covering loans, transactions, clients, credit cards etc. Here we focus only on the transaction dataset. \n",
    "https://data.world/lpetrocelli/czech-financial-dataset-real-anonymized-transactions\n",
    "* File name: _\"trans.csv\"_\n",
    "* Obtained via direct web download, no scraping needed.\n",
    "\n",
    "### Features:\n",
    "* Date\n",
    "* Type\n",
    "* Operation\n",
    "* Amount\n",
    "* Balance \n",
    "* Symbol \n",
    "* Bank\n",
    "* Account\n",
    "\n",
    "## Source c: _\"Development Credit Authority (DCA) Data Set: Loan Transactions\"_\n",
    "* Description: USAID's Development Credit Authority (DCA) works with investors, local financial institutions, and development organizations to design and deliver investment alternatives that unlock financing for U.S. Government priorities. USAID guarantees encourage private lenders to extend financing to underserved borrowers in new sectors and regions. \n",
    "* Data lists all private loans made under USAID's DCA since 1999. \n",
    "https://data.world/usaid/dca-loan-transactions\n",
    "* File name: _\"userssharedsdfusaiddevelopmentcagloantransactions.csv\"_\n",
    "* Obtained via direct web download, no scraping needed.\n",
    "\n",
    "### Features:\n",
    "* Country\n",
    "* Amount (USD)\n",
    "* Original currency\n",
    "* Date\n",
    "* Sector \n",
    "* Town / City \n",
    "* Female owned business receiving loan (dummy variable)\n",
    "* First time borrower business (dummy variable)\n",
    "\n",
    "-----"
   ]
  },
  {
   "cell_type": "markdown",
   "metadata": {},
   "source": [
    "# Section 2: Exploratory Data Analysis\n",
    "Time spent: 2 hr  12 min\n",
    "\n",
    "-----"
   ]
  },
  {
   "cell_type": "code",
   "execution_count": 1,
   "metadata": {},
   "outputs": [],
   "source": [
    "# Import various libraries\n",
    "import numpy as np\n",
    "import matplotlib.pyplot as plt\n",
    "import seaborn as sns\n",
    "import pandas as pd\n",
    "import datetime\n",
    "from datetime import datetime\n",
    "import math\n",
    "import statistics"
   ]
  },
  {
   "cell_type": "code",
   "execution_count": 2,
   "metadata": {},
   "outputs": [],
   "source": [
    "# Load Dataset of Interest\n",
    "loan_transaction_data = pd.read_csv(\"userssharedsdfusaiddevelopmentcagloantransactions.csv\")"
   ]
  },
  {
   "cell_type": "code",
   "execution_count": 3,
   "metadata": {},
   "outputs": [
    {
     "name": "stdout",
     "output_type": "stream",
     "text": [
      "Size of loan transaction data (163795, 17)\n"
     ]
    }
   ],
   "source": [
    "# Overview of Data Structure\n",
    "print('Size of loan transaction data', loan_transaction_data.shape)"
   ]
  },
  {
   "cell_type": "code",
   "execution_count": 4,
   "metadata": {},
   "outputs": [
    {
     "data": {
      "text/html": [
       "<div>\n",
       "<style scoped>\n",
       "    .dataframe tbody tr th:only-of-type {\n",
       "        vertical-align: middle;\n",
       "    }\n",
       "\n",
       "    .dataframe tbody tr th {\n",
       "        vertical-align: top;\n",
       "    }\n",
       "\n",
       "    .dataframe thead th {\n",
       "        text-align: right;\n",
       "    }\n",
       "</style>\n",
       "<table border=\"1\" class=\"dataframe\">\n",
       "  <thead>\n",
       "    <tr style=\"text-align: right;\">\n",
       "      <th></th>\n",
       "      <th>Guarantee Number</th>\n",
       "      <th>Transaction Report ID</th>\n",
       "      <th>Guarantee Country Name</th>\n",
       "      <th>Amount (USD)</th>\n",
       "      <th>Currency Name</th>\n",
       "      <th>End Date</th>\n",
       "      <th>Business Sector</th>\n",
       "      <th>City/Town</th>\n",
       "      <th>State/Province/Region Name</th>\n",
       "      <th>State/Province/Region Code</th>\n",
       "      <th>State/Province/Region Country Name</th>\n",
       "      <th>Region Name</th>\n",
       "      <th>Latitude</th>\n",
       "      <th>Longitude</th>\n",
       "      <th>Is Woman Owned?</th>\n",
       "      <th>Is First Time Borrower?</th>\n",
       "      <th>Business Size</th>\n",
       "    </tr>\n",
       "  </thead>\n",
       "  <tbody>\n",
       "    <tr>\n",
       "      <th>count</th>\n",
       "      <td>163795</td>\n",
       "      <td>163795.000000</td>\n",
       "      <td>163795</td>\n",
       "      <td>1.637950e+05</td>\n",
       "      <td>163795</td>\n",
       "      <td>163795</td>\n",
       "      <td>155932</td>\n",
       "      <td>124728</td>\n",
       "      <td>122798</td>\n",
       "      <td>122798</td>\n",
       "      <td>122798</td>\n",
       "      <td>122798</td>\n",
       "      <td>92430.000000</td>\n",
       "      <td>92430.000000</td>\n",
       "      <td>163795.000000</td>\n",
       "      <td>163795.000000</td>\n",
       "      <td>31069</td>\n",
       "    </tr>\n",
       "    <tr>\n",
       "      <th>unique</th>\n",
       "      <td>400</td>\n",
       "      <td>NaN</td>\n",
       "      <td>76</td>\n",
       "      <td>NaN</td>\n",
       "      <td>72</td>\n",
       "      <td>6403</td>\n",
       "      <td>15</td>\n",
       "      <td>7081</td>\n",
       "      <td>863</td>\n",
       "      <td>884</td>\n",
       "      <td>72</td>\n",
       "      <td>5</td>\n",
       "      <td>NaN</td>\n",
       "      <td>NaN</td>\n",
       "      <td>NaN</td>\n",
       "      <td>NaN</td>\n",
       "      <td>5</td>\n",
       "    </tr>\n",
       "    <tr>\n",
       "      <th>top</th>\n",
       "      <td>523DCAA00010001100</td>\n",
       "      <td>NaN</td>\n",
       "      <td>Colombia</td>\n",
       "      <td>NaN</td>\n",
       "      <td>COLOMBIA - PESO</td>\n",
       "      <td>2/21/2004</td>\n",
       "      <td>Agriculture</td>\n",
       "      <td>Tarapoto</td>\n",
       "      <td>San Martin</td>\n",
       "      <td>PE22</td>\n",
       "      <td>Colombia</td>\n",
       "      <td>LATIN AMERICA &amp; THE CARIBBEAN</td>\n",
       "      <td>NaN</td>\n",
       "      <td>NaN</td>\n",
       "      <td>NaN</td>\n",
       "      <td>NaN</td>\n",
       "      <td>1--5</td>\n",
       "    </tr>\n",
       "    <tr>\n",
       "      <th>freq</th>\n",
       "      <td>18192</td>\n",
       "      <td>NaN</td>\n",
       "      <td>21647</td>\n",
       "      <td>NaN</td>\n",
       "      <td>21648</td>\n",
       "      <td>1617</td>\n",
       "      <td>62818</td>\n",
       "      <td>6691</td>\n",
       "      <td>9165</td>\n",
       "      <td>9165</td>\n",
       "      <td>21642</td>\n",
       "      <td>90895</td>\n",
       "      <td>NaN</td>\n",
       "      <td>NaN</td>\n",
       "      <td>NaN</td>\n",
       "      <td>NaN</td>\n",
       "      <td>26770</td>\n",
       "    </tr>\n",
       "    <tr>\n",
       "      <th>mean</th>\n",
       "      <td>NaN</td>\n",
       "      <td>288877.498623</td>\n",
       "      <td>NaN</td>\n",
       "      <td>1.160283e+04</td>\n",
       "      <td>NaN</td>\n",
       "      <td>NaN</td>\n",
       "      <td>NaN</td>\n",
       "      <td>NaN</td>\n",
       "      <td>NaN</td>\n",
       "      <td>NaN</td>\n",
       "      <td>NaN</td>\n",
       "      <td>NaN</td>\n",
       "      <td>8.131426</td>\n",
       "      <td>-46.287197</td>\n",
       "      <td>0.338722</td>\n",
       "      <td>0.306066</td>\n",
       "      <td>NaN</td>\n",
       "    </tr>\n",
       "    <tr>\n",
       "      <th>std</th>\n",
       "      <td>NaN</td>\n",
       "      <td>128342.116008</td>\n",
       "      <td>NaN</td>\n",
       "      <td>3.037087e+05</td>\n",
       "      <td>NaN</td>\n",
       "      <td>NaN</td>\n",
       "      <td>NaN</td>\n",
       "      <td>NaN</td>\n",
       "      <td>NaN</td>\n",
       "      <td>NaN</td>\n",
       "      <td>NaN</td>\n",
       "      <td>NaN</td>\n",
       "      <td>14.288662</td>\n",
       "      <td>59.197727</td>\n",
       "      <td>54.556436</td>\n",
       "      <td>1.149152</td>\n",
       "      <td>NaN</td>\n",
       "    </tr>\n",
       "    <tr>\n",
       "      <th>min</th>\n",
       "      <td>NaN</td>\n",
       "      <td>18215.000000</td>\n",
       "      <td>NaN</td>\n",
       "      <td>0.000000e+00</td>\n",
       "      <td>NaN</td>\n",
       "      <td>NaN</td>\n",
       "      <td>NaN</td>\n",
       "      <td>NaN</td>\n",
       "      <td>NaN</td>\n",
       "      <td>NaN</td>\n",
       "      <td>NaN</td>\n",
       "      <td>NaN</td>\n",
       "      <td>-34.822297</td>\n",
       "      <td>-99.250000</td>\n",
       "      <td>0.000000</td>\n",
       "      <td>0.000000</td>\n",
       "      <td>NaN</td>\n",
       "    </tr>\n",
       "    <tr>\n",
       "      <th>25%</th>\n",
       "      <td>NaN</td>\n",
       "      <td>189520.500000</td>\n",
       "      <td>NaN</td>\n",
       "      <td>4.869339e+02</td>\n",
       "      <td>NaN</td>\n",
       "      <td>NaN</td>\n",
       "      <td>NaN</td>\n",
       "      <td>NaN</td>\n",
       "      <td>NaN</td>\n",
       "      <td>NaN</td>\n",
       "      <td>NaN</td>\n",
       "      <td>NaN</td>\n",
       "      <td>-5.350694</td>\n",
       "      <td>-76.957418</td>\n",
       "      <td>0.000000</td>\n",
       "      <td>0.000000</td>\n",
       "      <td>NaN</td>\n",
       "    </tr>\n",
       "    <tr>\n",
       "      <th>50%</th>\n",
       "      <td>NaN</td>\n",
       "      <td>286887.000000</td>\n",
       "      <td>NaN</td>\n",
       "      <td>9.805844e+02</td>\n",
       "      <td>NaN</td>\n",
       "      <td>NaN</td>\n",
       "      <td>NaN</td>\n",
       "      <td>NaN</td>\n",
       "      <td>NaN</td>\n",
       "      <td>NaN</td>\n",
       "      <td>NaN</td>\n",
       "      <td>NaN</td>\n",
       "      <td>6.337315</td>\n",
       "      <td>-75.583333</td>\n",
       "      <td>0.000000</td>\n",
       "      <td>0.000000</td>\n",
       "      <td>NaN</td>\n",
       "    </tr>\n",
       "    <tr>\n",
       "      <th>75%</th>\n",
       "      <td>NaN</td>\n",
       "      <td>379022.500000</td>\n",
       "      <td>NaN</td>\n",
       "      <td>2.141828e+03</td>\n",
       "      <td>NaN</td>\n",
       "      <td>NaN</td>\n",
       "      <td>NaN</td>\n",
       "      <td>NaN</td>\n",
       "      <td>NaN</td>\n",
       "      <td>NaN</td>\n",
       "      <td>NaN</td>\n",
       "      <td>NaN</td>\n",
       "      <td>18.041682</td>\n",
       "      <td>-61.733333</td>\n",
       "      <td>0.000000</td>\n",
       "      <td>1.000000</td>\n",
       "      <td>NaN</td>\n",
       "    </tr>\n",
       "    <tr>\n",
       "      <th>max</th>\n",
       "      <td>NaN</td>\n",
       "      <td>523368.000000</td>\n",
       "      <td>NaN</td>\n",
       "      <td>8.060000e+07</td>\n",
       "      <td>NaN</td>\n",
       "      <td>NaN</td>\n",
       "      <td>NaN</td>\n",
       "      <td>NaN</td>\n",
       "      <td>NaN</td>\n",
       "      <td>NaN</td>\n",
       "      <td>NaN</td>\n",
       "      <td>NaN</td>\n",
       "      <td>62.366667</td>\n",
       "      <td>150.216667</td>\n",
       "      <td>21566.000000</td>\n",
       "      <td>390.000000</td>\n",
       "      <td>NaN</td>\n",
       "    </tr>\n",
       "  </tbody>\n",
       "</table>\n",
       "</div>"
      ],
      "text/plain": [
       "          Guarantee Number  Transaction Report ID Guarantee Country Name  \\\n",
       "count               163795          163795.000000                 163795   \n",
       "unique                 400                    NaN                     76   \n",
       "top     523DCAA00010001100                    NaN               Colombia   \n",
       "freq                 18192                    NaN                  21647   \n",
       "mean                   NaN          288877.498623                    NaN   \n",
       "std                    NaN          128342.116008                    NaN   \n",
       "min                    NaN           18215.000000                    NaN   \n",
       "25%                    NaN          189520.500000                    NaN   \n",
       "50%                    NaN          286887.000000                    NaN   \n",
       "75%                    NaN          379022.500000                    NaN   \n",
       "max                    NaN          523368.000000                    NaN   \n",
       "\n",
       "        Amount (USD)    Currency Name   End Date Business Sector City/Town  \\\n",
       "count   1.637950e+05           163795     163795          155932    124728   \n",
       "unique           NaN               72       6403              15      7081   \n",
       "top              NaN  COLOMBIA - PESO  2/21/2004     Agriculture  Tarapoto   \n",
       "freq             NaN            21648       1617           62818      6691   \n",
       "mean    1.160283e+04              NaN        NaN             NaN       NaN   \n",
       "std     3.037087e+05              NaN        NaN             NaN       NaN   \n",
       "min     0.000000e+00              NaN        NaN             NaN       NaN   \n",
       "25%     4.869339e+02              NaN        NaN             NaN       NaN   \n",
       "50%     9.805844e+02              NaN        NaN             NaN       NaN   \n",
       "75%     2.141828e+03              NaN        NaN             NaN       NaN   \n",
       "max     8.060000e+07              NaN        NaN             NaN       NaN   \n",
       "\n",
       "       State/Province/Region Name State/Province/Region Code  \\\n",
       "count                      122798                     122798   \n",
       "unique                        863                        884   \n",
       "top                    San Martin                       PE22   \n",
       "freq                         9165                       9165   \n",
       "mean                          NaN                        NaN   \n",
       "std                           NaN                        NaN   \n",
       "min                           NaN                        NaN   \n",
       "25%                           NaN                        NaN   \n",
       "50%                           NaN                        NaN   \n",
       "75%                           NaN                        NaN   \n",
       "max                           NaN                        NaN   \n",
       "\n",
       "       State/Province/Region Country Name                    Region Name  \\\n",
       "count                              122798                         122798   \n",
       "unique                                 72                              5   \n",
       "top                              Colombia  LATIN AMERICA & THE CARIBBEAN   \n",
       "freq                                21642                          90895   \n",
       "mean                                  NaN                            NaN   \n",
       "std                                   NaN                            NaN   \n",
       "min                                   NaN                            NaN   \n",
       "25%                                   NaN                            NaN   \n",
       "50%                                   NaN                            NaN   \n",
       "75%                                   NaN                            NaN   \n",
       "max                                   NaN                            NaN   \n",
       "\n",
       "            Latitude     Longitude  Is Woman Owned?  Is First Time Borrower?  \\\n",
       "count   92430.000000  92430.000000    163795.000000            163795.000000   \n",
       "unique           NaN           NaN              NaN                      NaN   \n",
       "top              NaN           NaN              NaN                      NaN   \n",
       "freq             NaN           NaN              NaN                      NaN   \n",
       "mean        8.131426    -46.287197         0.338722                 0.306066   \n",
       "std        14.288662     59.197727        54.556436                 1.149152   \n",
       "min       -34.822297    -99.250000         0.000000                 0.000000   \n",
       "25%        -5.350694    -76.957418         0.000000                 0.000000   \n",
       "50%         6.337315    -75.583333         0.000000                 0.000000   \n",
       "75%        18.041682    -61.733333         0.000000                 1.000000   \n",
       "max        62.366667    150.216667     21566.000000               390.000000   \n",
       "\n",
       "       Business Size  \n",
       "count          31069  \n",
       "unique             5  \n",
       "top             1--5  \n",
       "freq           26770  \n",
       "mean             NaN  \n",
       "std              NaN  \n",
       "min              NaN  \n",
       "25%              NaN  \n",
       "50%              NaN  \n",
       "75%              NaN  \n",
       "max              NaN  "
      ]
     },
     "execution_count": 4,
     "metadata": {},
     "output_type": "execute_result"
    }
   ],
   "source": [
    "# Summary Statistics\n",
    "loan_transaction_data.describe(include='all')"
   ]
  },
  {
   "cell_type": "markdown",
   "metadata": {},
   "source": [
    "Notice the key variable of interest; loan amount (USD), has undergone some currency conversions resulting in normal form notation for amoutns which were originally true currency amounts. Hence, happy to accept a two decimal place accuracy of currency conversions we create a rounded version for easier interpretation."
   ]
  },
  {
   "cell_type": "code",
   "execution_count": 5,
   "metadata": {},
   "outputs": [],
   "source": [
    "# Rounded version of amount USD due to currency conversions\n",
    "loan_transaction_data['Amount (USD) (rounded)'] = round(loan_transaction_data['Amount (USD)'], 2).replace(0, np.nan)\n",
    "loan_transaction_data['Log Amount'] = np.log(loan_transaction_data['Amount (USD) (rounded)'])"
   ]
  },
  {
   "cell_type": "code",
   "execution_count": 6,
   "metadata": {},
   "outputs": [
    {
     "data": {
      "text/html": [
       "<div>\n",
       "<style scoped>\n",
       "    .dataframe tbody tr th:only-of-type {\n",
       "        vertical-align: middle;\n",
       "    }\n",
       "\n",
       "    .dataframe tbody tr th {\n",
       "        vertical-align: top;\n",
       "    }\n",
       "\n",
       "    .dataframe thead th {\n",
       "        text-align: right;\n",
       "    }\n",
       "</style>\n",
       "<table border=\"1\" class=\"dataframe\">\n",
       "  <thead>\n",
       "    <tr style=\"text-align: right;\">\n",
       "      <th></th>\n",
       "      <th>Guarantee Number</th>\n",
       "      <th>Transaction Report ID</th>\n",
       "      <th>Guarantee Country Name</th>\n",
       "      <th>Amount (USD)</th>\n",
       "      <th>Currency Name</th>\n",
       "      <th>End Date</th>\n",
       "      <th>Business Sector</th>\n",
       "      <th>City/Town</th>\n",
       "      <th>State/Province/Region Name</th>\n",
       "      <th>State/Province/Region Code</th>\n",
       "      <th>State/Province/Region Country Name</th>\n",
       "      <th>Region Name</th>\n",
       "      <th>Latitude</th>\n",
       "      <th>Longitude</th>\n",
       "      <th>Is Woman Owned?</th>\n",
       "      <th>Is First Time Borrower?</th>\n",
       "      <th>Business Size</th>\n",
       "      <th>Amount (USD) (rounded)</th>\n",
       "      <th>Log Amount</th>\n",
       "    </tr>\n",
       "  </thead>\n",
       "  <tbody>\n",
       "    <tr>\n",
       "      <th>0</th>\n",
       "      <td>099-DCA-09-006A (Asociacion Arariwa)</td>\n",
       "      <td>356191</td>\n",
       "      <td>Worldwide</td>\n",
       "      <td>9.872727e+05</td>\n",
       "      <td>PERU - NUEVO SOL</td>\n",
       "      <td>9/9/2013</td>\n",
       "      <td>NaN</td>\n",
       "      <td>Cusco</td>\n",
       "      <td>Cusco</td>\n",
       "      <td>PE08</td>\n",
       "      <td>Peru</td>\n",
       "      <td>LATIN AMERICA &amp; THE CARIBBEAN</td>\n",
       "      <td>-13.518333</td>\n",
       "      <td>-71.978056</td>\n",
       "      <td>0</td>\n",
       "      <td>1</td>\n",
       "      <td>&gt;100</td>\n",
       "      <td>987272.73</td>\n",
       "      <td>13.802702</td>\n",
       "    </tr>\n",
       "    <tr>\n",
       "      <th>1</th>\n",
       "      <td>099-DCA-09-006B (Pro Mujer Peru)</td>\n",
       "      <td>331620</td>\n",
       "      <td>Worldwide</td>\n",
       "      <td>1.974545e+06</td>\n",
       "      <td>PERU - NUEVO SOL</td>\n",
       "      <td>9/4/2014</td>\n",
       "      <td>NaN</td>\n",
       "      <td>Puno</td>\n",
       "      <td>Puno</td>\n",
       "      <td>PE21</td>\n",
       "      <td>Peru</td>\n",
       "      <td>LATIN AMERICA &amp; THE CARIBBEAN</td>\n",
       "      <td>-15.000000</td>\n",
       "      <td>-70.000000</td>\n",
       "      <td>0</td>\n",
       "      <td>0</td>\n",
       "      <td>&gt;100</td>\n",
       "      <td>1974545.46</td>\n",
       "      <td>14.495849</td>\n",
       "    </tr>\n",
       "    <tr>\n",
       "      <th>2</th>\n",
       "      <td>099-DCA-09-006C (ProEmpresa)</td>\n",
       "      <td>349835</td>\n",
       "      <td>Worldwide</td>\n",
       "      <td>1.992565e+06</td>\n",
       "      <td>PERU - NUEVO SOL</td>\n",
       "      <td>8/5/2013</td>\n",
       "      <td>NaN</td>\n",
       "      <td>Lima</td>\n",
       "      <td>Lima</td>\n",
       "      <td>PE15</td>\n",
       "      <td>Peru</td>\n",
       "      <td>LATIN AMERICA &amp; THE CARIBBEAN</td>\n",
       "      <td>-12.000000</td>\n",
       "      <td>-76.833333</td>\n",
       "      <td>0</td>\n",
       "      <td>1</td>\n",
       "      <td>&gt;100</td>\n",
       "      <td>1992565.06</td>\n",
       "      <td>14.504933</td>\n",
       "    </tr>\n",
       "    <tr>\n",
       "      <th>3</th>\n",
       "      <td>099-DCA-09-006D (Pro Mujer Peru)</td>\n",
       "      <td>385807</td>\n",
       "      <td>Worldwide</td>\n",
       "      <td>1.000000e+06</td>\n",
       "      <td>PERU - NUEVO SOL</td>\n",
       "      <td>3/31/2015</td>\n",
       "      <td>NaN</td>\n",
       "      <td>Puno</td>\n",
       "      <td>NaN</td>\n",
       "      <td>NaN</td>\n",
       "      <td>NaN</td>\n",
       "      <td>NaN</td>\n",
       "      <td>NaN</td>\n",
       "      <td>NaN</td>\n",
       "      <td>0</td>\n",
       "      <td>0</td>\n",
       "      <td>&gt;100</td>\n",
       "      <td>1000000.00</td>\n",
       "      <td>13.815511</td>\n",
       "    </tr>\n",
       "    <tr>\n",
       "      <th>4</th>\n",
       "      <td>099-DCA-09-006F (COCLA)</td>\n",
       "      <td>473058</td>\n",
       "      <td>Worldwide</td>\n",
       "      <td>1.780000e+06</td>\n",
       "      <td>UNITED STATES - DOLLAR</td>\n",
       "      <td>8/20/2014</td>\n",
       "      <td>NaN</td>\n",
       "      <td>Cusco</td>\n",
       "      <td>Cusco</td>\n",
       "      <td>PE08</td>\n",
       "      <td>Peru</td>\n",
       "      <td>LATIN AMERICA &amp; THE CARIBBEAN</td>\n",
       "      <td>-13.518333</td>\n",
       "      <td>-71.978056</td>\n",
       "      <td>0</td>\n",
       "      <td>0</td>\n",
       "      <td>NaN</td>\n",
       "      <td>1780000.00</td>\n",
       "      <td>14.392124</td>\n",
       "    </tr>\n",
       "  </tbody>\n",
       "</table>\n",
       "</div>"
      ],
      "text/plain": [
       "                       Guarantee Number  Transaction Report ID  \\\n",
       "0  099-DCA-09-006A (Asociacion Arariwa)                 356191   \n",
       "1      099-DCA-09-006B (Pro Mujer Peru)                 331620   \n",
       "2          099-DCA-09-006C (ProEmpresa)                 349835   \n",
       "3      099-DCA-09-006D (Pro Mujer Peru)                 385807   \n",
       "4               099-DCA-09-006F (COCLA)                 473058   \n",
       "\n",
       "  Guarantee Country Name  Amount (USD)           Currency Name   End Date  \\\n",
       "0              Worldwide  9.872727e+05        PERU - NUEVO SOL   9/9/2013   \n",
       "1              Worldwide  1.974545e+06        PERU - NUEVO SOL   9/4/2014   \n",
       "2              Worldwide  1.992565e+06        PERU - NUEVO SOL   8/5/2013   \n",
       "3              Worldwide  1.000000e+06        PERU - NUEVO SOL  3/31/2015   \n",
       "4              Worldwide  1.780000e+06  UNITED STATES - DOLLAR  8/20/2014   \n",
       "\n",
       "  Business Sector City/Town State/Province/Region Name  \\\n",
       "0             NaN     Cusco                      Cusco   \n",
       "1             NaN      Puno                       Puno   \n",
       "2             NaN      Lima                       Lima   \n",
       "3             NaN      Puno                        NaN   \n",
       "4             NaN     Cusco                      Cusco   \n",
       "\n",
       "  State/Province/Region Code State/Province/Region Country Name  \\\n",
       "0                       PE08                               Peru   \n",
       "1                       PE21                               Peru   \n",
       "2                       PE15                               Peru   \n",
       "3                        NaN                                NaN   \n",
       "4                       PE08                               Peru   \n",
       "\n",
       "                     Region Name   Latitude  Longitude  Is Woman Owned?  \\\n",
       "0  LATIN AMERICA & THE CARIBBEAN -13.518333 -71.978056                0   \n",
       "1  LATIN AMERICA & THE CARIBBEAN -15.000000 -70.000000                0   \n",
       "2  LATIN AMERICA & THE CARIBBEAN -12.000000 -76.833333                0   \n",
       "3                            NaN        NaN        NaN                0   \n",
       "4  LATIN AMERICA & THE CARIBBEAN -13.518333 -71.978056                0   \n",
       "\n",
       "   Is First Time Borrower? Business Size  Amount (USD) (rounded)  Log Amount  \n",
       "0                        1          >100               987272.73   13.802702  \n",
       "1                        0          >100              1974545.46   14.495849  \n",
       "2                        1          >100              1992565.06   14.504933  \n",
       "3                        0          >100              1000000.00   13.815511  \n",
       "4                        0           NaN              1780000.00   14.392124  "
      ]
     },
     "execution_count": 6,
     "metadata": {},
     "output_type": "execute_result"
    }
   ],
   "source": [
    "# Glimpse\n",
    "loan_transaction_data.head()"
   ]
  },
  {
   "cell_type": "code",
   "execution_count": 7,
   "metadata": {},
   "outputs": [
    {
     "name": "stdout",
     "output_type": "stream",
     "text": [
      "                                     Total  Percent\n",
      "Business Size                       132726    81.03\n",
      "Longitude                            71365    43.57\n",
      "Latitude                             71365    43.57\n",
      "State/Province/Region Code           40997    25.03\n",
      "State/Province/Region Name           40997    25.03\n",
      "Region Name                          40997    25.03\n",
      "State/Province/Region Country Name   40997    25.03\n",
      "City/Town                            39067    23.85\n",
      "Business Sector                       7863     4.80\n",
      "Log Amount                               7     0.00\n",
      "Amount (USD) (rounded)                   7     0.00\n",
      "Is Woman Owned?                          0     0.00\n",
      "Is First Time Borrower?                  0     0.00\n",
      "End Date                                 0     0.00\n",
      "Currency Name                            0     0.00\n",
      "Amount (USD)                             0     0.00\n",
      "Guarantee Country Name                   0     0.00\n",
      "Transaction Report ID                    0     0.00\n",
      "Guarantee Number                         0     0.00\n"
     ]
    }
   ],
   "source": [
    "# Function for missing data overview\n",
    "def miss_data(df):\n",
    "    total = df.isnull().sum().sort_values(ascending = False)\n",
    "    percent = (df.isnull().sum()/df.isnull().count()*100).sort_values(ascending = False)\n",
    "    percent = round(percent,2)\n",
    "    missing_df  = pd.concat([total, percent], axis=1, keys=['Total', 'Percent'])\n",
    "    print( missing_df.head(20))\n",
    "    return None\n",
    "miss_data(loan_transaction_data)"
   ]
  },
  {
   "cell_type": "markdown",
   "metadata": {},
   "source": [
    "Here we make some key observations:\n",
    "* Largely categorical data presenting a potential sample selection issue. Initial quantitative analysis on transaction amounts can be done on a complete sample.\n",
    "* Potential biases for or against both first time borrowers and female owned companies possible on entire sample.\n",
    "* Business sector analysis can also be done on a large proportion of the data.\n",
    "* More granular analyses investigating transaction patterns regionally will require an approach to deal with missing data."
   ]
  },
  {
   "cell_type": "code",
   "execution_count": 8,
   "metadata": {},
   "outputs": [
    {
     "data": {
      "text/html": [
       "<div>\n",
       "<style scoped>\n",
       "    .dataframe tbody tr th:only-of-type {\n",
       "        vertical-align: middle;\n",
       "    }\n",
       "\n",
       "    .dataframe tbody tr th {\n",
       "        vertical-align: top;\n",
       "    }\n",
       "\n",
       "    .dataframe thead th {\n",
       "        text-align: right;\n",
       "    }\n",
       "</style>\n",
       "<table border=\"1\" class=\"dataframe\">\n",
       "  <thead>\n",
       "    <tr style=\"text-align: right;\">\n",
       "      <th></th>\n",
       "      <th>Column</th>\n",
       "      <th>Type</th>\n",
       "    </tr>\n",
       "  </thead>\n",
       "  <tbody>\n",
       "    <tr>\n",
       "      <th>0</th>\n",
       "      <td>Guarantee Number</td>\n",
       "      <td>object</td>\n",
       "    </tr>\n",
       "    <tr>\n",
       "      <th>1</th>\n",
       "      <td>Transaction Report ID</td>\n",
       "      <td>int64</td>\n",
       "    </tr>\n",
       "    <tr>\n",
       "      <th>2</th>\n",
       "      <td>Guarantee Country Name</td>\n",
       "      <td>object</td>\n",
       "    </tr>\n",
       "    <tr>\n",
       "      <th>3</th>\n",
       "      <td>Amount (USD)</td>\n",
       "      <td>float64</td>\n",
       "    </tr>\n",
       "    <tr>\n",
       "      <th>4</th>\n",
       "      <td>Currency Name</td>\n",
       "      <td>object</td>\n",
       "    </tr>\n",
       "    <tr>\n",
       "      <th>5</th>\n",
       "      <td>End Date</td>\n",
       "      <td>object</td>\n",
       "    </tr>\n",
       "    <tr>\n",
       "      <th>6</th>\n",
       "      <td>Business Sector</td>\n",
       "      <td>object</td>\n",
       "    </tr>\n",
       "    <tr>\n",
       "      <th>7</th>\n",
       "      <td>City/Town</td>\n",
       "      <td>object</td>\n",
       "    </tr>\n",
       "    <tr>\n",
       "      <th>8</th>\n",
       "      <td>State/Province/Region Name</td>\n",
       "      <td>object</td>\n",
       "    </tr>\n",
       "    <tr>\n",
       "      <th>9</th>\n",
       "      <td>State/Province/Region Code</td>\n",
       "      <td>object</td>\n",
       "    </tr>\n",
       "    <tr>\n",
       "      <th>10</th>\n",
       "      <td>State/Province/Region Country Name</td>\n",
       "      <td>object</td>\n",
       "    </tr>\n",
       "    <tr>\n",
       "      <th>11</th>\n",
       "      <td>Region Name</td>\n",
       "      <td>object</td>\n",
       "    </tr>\n",
       "    <tr>\n",
       "      <th>12</th>\n",
       "      <td>Latitude</td>\n",
       "      <td>float64</td>\n",
       "    </tr>\n",
       "    <tr>\n",
       "      <th>13</th>\n",
       "      <td>Longitude</td>\n",
       "      <td>float64</td>\n",
       "    </tr>\n",
       "    <tr>\n",
       "      <th>14</th>\n",
       "      <td>Is Woman Owned?</td>\n",
       "      <td>int64</td>\n",
       "    </tr>\n",
       "    <tr>\n",
       "      <th>15</th>\n",
       "      <td>Is First Time Borrower?</td>\n",
       "      <td>int64</td>\n",
       "    </tr>\n",
       "    <tr>\n",
       "      <th>16</th>\n",
       "      <td>Business Size</td>\n",
       "      <td>object</td>\n",
       "    </tr>\n",
       "    <tr>\n",
       "      <th>17</th>\n",
       "      <td>Amount (USD) (rounded)</td>\n",
       "      <td>float64</td>\n",
       "    </tr>\n",
       "    <tr>\n",
       "      <th>18</th>\n",
       "      <td>Log Amount</td>\n",
       "      <td>float64</td>\n",
       "    </tr>\n",
       "  </tbody>\n",
       "</table>\n",
       "</div>"
      ],
      "text/plain": [
       "                                Column     Type\n",
       "0                     Guarantee Number   object\n",
       "1                Transaction Report ID    int64\n",
       "2               Guarantee Country Name   object\n",
       "3                         Amount (USD)  float64\n",
       "4                        Currency Name   object\n",
       "5                             End Date   object\n",
       "6                      Business Sector   object\n",
       "7                            City/Town   object\n",
       "8           State/Province/Region Name   object\n",
       "9           State/Province/Region Code   object\n",
       "10  State/Province/Region Country Name   object\n",
       "11                         Region Name   object\n",
       "12                            Latitude  float64\n",
       "13                           Longitude  float64\n",
       "14                     Is Woman Owned?    int64\n",
       "15             Is First Time Borrower?    int64\n",
       "16                       Business Size   object\n",
       "17              Amount (USD) (rounded)  float64\n",
       "18                          Log Amount  float64"
      ]
     },
     "execution_count": 8,
     "metadata": {},
     "output_type": "execute_result"
    }
   ],
   "source": [
    "# What variable types do we have?\n",
    "def cols(df):\n",
    "    # Initialise empty placeholder\n",
    "    col_desc = []\n",
    "    for col in df.columns:\n",
    "        col_desc.append((col, df[col].dtype))\n",
    "    col_desc_df = pd.DataFrame(col_desc, columns=['Column', 'Type'])\n",
    "    return col_desc_df\n",
    "cols(loan_transaction_data)"
   ]
  },
  {
   "cell_type": "code",
   "execution_count": 9,
   "metadata": {},
   "outputs": [],
   "source": [
    "# Create some additional variables of Interest\n",
    "# Actual Date format, to then get years, monthly, quarterly etc\n",
    "loan_transaction_data['Date'] = pd.to_datetime(loan_transaction_data['End Date'])\n",
    "loan_transaction_data['Year'] = loan_transaction_data['Date'].dt.year\n",
    "loan_transaction_data['Quarter'] = loan_transaction_data['Date'].dt.quarter"
   ]
  },
  {
   "cell_type": "code",
   "execution_count": 10,
   "metadata": {},
   "outputs": [
    {
     "data": {
      "text/html": [
       "<div>\n",
       "<style scoped>\n",
       "    .dataframe tbody tr th:only-of-type {\n",
       "        vertical-align: middle;\n",
       "    }\n",
       "\n",
       "    .dataframe tbody tr th {\n",
       "        vertical-align: top;\n",
       "    }\n",
       "\n",
       "    .dataframe thead th {\n",
       "        text-align: right;\n",
       "    }\n",
       "</style>\n",
       "<table border=\"1\" class=\"dataframe\">\n",
       "  <thead>\n",
       "    <tr style=\"text-align: right;\">\n",
       "      <th></th>\n",
       "      <th>Guarantee Number</th>\n",
       "      <th>Transaction Report ID</th>\n",
       "      <th>Guarantee Country Name</th>\n",
       "      <th>Amount (USD)</th>\n",
       "      <th>Currency Name</th>\n",
       "      <th>End Date</th>\n",
       "      <th>Business Sector</th>\n",
       "      <th>City/Town</th>\n",
       "      <th>State/Province/Region Name</th>\n",
       "      <th>State/Province/Region Code</th>\n",
       "      <th>...</th>\n",
       "      <th>Latitude</th>\n",
       "      <th>Longitude</th>\n",
       "      <th>Is Woman Owned?</th>\n",
       "      <th>Is First Time Borrower?</th>\n",
       "      <th>Business Size</th>\n",
       "      <th>Amount (USD) (rounded)</th>\n",
       "      <th>Log Amount</th>\n",
       "      <th>Date</th>\n",
       "      <th>Year</th>\n",
       "      <th>Quarter</th>\n",
       "    </tr>\n",
       "  </thead>\n",
       "  <tbody>\n",
       "    <tr>\n",
       "      <th>0</th>\n",
       "      <td>099-DCA-09-006A (Asociacion Arariwa)</td>\n",
       "      <td>356191</td>\n",
       "      <td>Worldwide</td>\n",
       "      <td>9.872727e+05</td>\n",
       "      <td>PERU - NUEVO SOL</td>\n",
       "      <td>9/9/2013</td>\n",
       "      <td>NaN</td>\n",
       "      <td>Cusco</td>\n",
       "      <td>Cusco</td>\n",
       "      <td>PE08</td>\n",
       "      <td>...</td>\n",
       "      <td>-13.518333</td>\n",
       "      <td>-71.978056</td>\n",
       "      <td>0</td>\n",
       "      <td>1</td>\n",
       "      <td>&gt;100</td>\n",
       "      <td>987272.73</td>\n",
       "      <td>13.802702</td>\n",
       "      <td>2013-09-09</td>\n",
       "      <td>2013</td>\n",
       "      <td>3</td>\n",
       "    </tr>\n",
       "    <tr>\n",
       "      <th>1</th>\n",
       "      <td>099-DCA-09-006B (Pro Mujer Peru)</td>\n",
       "      <td>331620</td>\n",
       "      <td>Worldwide</td>\n",
       "      <td>1.974545e+06</td>\n",
       "      <td>PERU - NUEVO SOL</td>\n",
       "      <td>9/4/2014</td>\n",
       "      <td>NaN</td>\n",
       "      <td>Puno</td>\n",
       "      <td>Puno</td>\n",
       "      <td>PE21</td>\n",
       "      <td>...</td>\n",
       "      <td>-15.000000</td>\n",
       "      <td>-70.000000</td>\n",
       "      <td>0</td>\n",
       "      <td>0</td>\n",
       "      <td>&gt;100</td>\n",
       "      <td>1974545.46</td>\n",
       "      <td>14.495849</td>\n",
       "      <td>2014-09-04</td>\n",
       "      <td>2014</td>\n",
       "      <td>3</td>\n",
       "    </tr>\n",
       "    <tr>\n",
       "      <th>2</th>\n",
       "      <td>099-DCA-09-006C (ProEmpresa)</td>\n",
       "      <td>349835</td>\n",
       "      <td>Worldwide</td>\n",
       "      <td>1.992565e+06</td>\n",
       "      <td>PERU - NUEVO SOL</td>\n",
       "      <td>8/5/2013</td>\n",
       "      <td>NaN</td>\n",
       "      <td>Lima</td>\n",
       "      <td>Lima</td>\n",
       "      <td>PE15</td>\n",
       "      <td>...</td>\n",
       "      <td>-12.000000</td>\n",
       "      <td>-76.833333</td>\n",
       "      <td>0</td>\n",
       "      <td>1</td>\n",
       "      <td>&gt;100</td>\n",
       "      <td>1992565.06</td>\n",
       "      <td>14.504933</td>\n",
       "      <td>2013-08-05</td>\n",
       "      <td>2013</td>\n",
       "      <td>3</td>\n",
       "    </tr>\n",
       "    <tr>\n",
       "      <th>3</th>\n",
       "      <td>099-DCA-09-006D (Pro Mujer Peru)</td>\n",
       "      <td>385807</td>\n",
       "      <td>Worldwide</td>\n",
       "      <td>1.000000e+06</td>\n",
       "      <td>PERU - NUEVO SOL</td>\n",
       "      <td>3/31/2015</td>\n",
       "      <td>NaN</td>\n",
       "      <td>Puno</td>\n",
       "      <td>NaN</td>\n",
       "      <td>NaN</td>\n",
       "      <td>...</td>\n",
       "      <td>NaN</td>\n",
       "      <td>NaN</td>\n",
       "      <td>0</td>\n",
       "      <td>0</td>\n",
       "      <td>&gt;100</td>\n",
       "      <td>1000000.00</td>\n",
       "      <td>13.815511</td>\n",
       "      <td>2015-03-31</td>\n",
       "      <td>2015</td>\n",
       "      <td>1</td>\n",
       "    </tr>\n",
       "    <tr>\n",
       "      <th>4</th>\n",
       "      <td>099-DCA-09-006F (COCLA)</td>\n",
       "      <td>473058</td>\n",
       "      <td>Worldwide</td>\n",
       "      <td>1.780000e+06</td>\n",
       "      <td>UNITED STATES - DOLLAR</td>\n",
       "      <td>8/20/2014</td>\n",
       "      <td>NaN</td>\n",
       "      <td>Cusco</td>\n",
       "      <td>Cusco</td>\n",
       "      <td>PE08</td>\n",
       "      <td>...</td>\n",
       "      <td>-13.518333</td>\n",
       "      <td>-71.978056</td>\n",
       "      <td>0</td>\n",
       "      <td>0</td>\n",
       "      <td>NaN</td>\n",
       "      <td>1780000.00</td>\n",
       "      <td>14.392124</td>\n",
       "      <td>2014-08-20</td>\n",
       "      <td>2014</td>\n",
       "      <td>3</td>\n",
       "    </tr>\n",
       "  </tbody>\n",
       "</table>\n",
       "<p>5 rows × 22 columns</p>\n",
       "</div>"
      ],
      "text/plain": [
       "                       Guarantee Number  Transaction Report ID  \\\n",
       "0  099-DCA-09-006A (Asociacion Arariwa)                 356191   \n",
       "1      099-DCA-09-006B (Pro Mujer Peru)                 331620   \n",
       "2          099-DCA-09-006C (ProEmpresa)                 349835   \n",
       "3      099-DCA-09-006D (Pro Mujer Peru)                 385807   \n",
       "4               099-DCA-09-006F (COCLA)                 473058   \n",
       "\n",
       "  Guarantee Country Name  Amount (USD)           Currency Name   End Date  \\\n",
       "0              Worldwide  9.872727e+05        PERU - NUEVO SOL   9/9/2013   \n",
       "1              Worldwide  1.974545e+06        PERU - NUEVO SOL   9/4/2014   \n",
       "2              Worldwide  1.992565e+06        PERU - NUEVO SOL   8/5/2013   \n",
       "3              Worldwide  1.000000e+06        PERU - NUEVO SOL  3/31/2015   \n",
       "4              Worldwide  1.780000e+06  UNITED STATES - DOLLAR  8/20/2014   \n",
       "\n",
       "  Business Sector City/Town State/Province/Region Name  \\\n",
       "0             NaN     Cusco                      Cusco   \n",
       "1             NaN      Puno                       Puno   \n",
       "2             NaN      Lima                       Lima   \n",
       "3             NaN      Puno                        NaN   \n",
       "4             NaN     Cusco                      Cusco   \n",
       "\n",
       "  State/Province/Region Code  ...   Latitude  Longitude  Is Woman Owned?  \\\n",
       "0                       PE08  ... -13.518333 -71.978056                0   \n",
       "1                       PE21  ... -15.000000 -70.000000                0   \n",
       "2                       PE15  ... -12.000000 -76.833333                0   \n",
       "3                        NaN  ...        NaN        NaN                0   \n",
       "4                       PE08  ... -13.518333 -71.978056                0   \n",
       "\n",
       "   Is First Time Borrower?  Business Size  Amount (USD) (rounded) Log Amount  \\\n",
       "0                        1           >100               987272.73  13.802702   \n",
       "1                        0           >100              1974545.46  14.495849   \n",
       "2                        1           >100              1992565.06  14.504933   \n",
       "3                        0           >100              1000000.00  13.815511   \n",
       "4                        0            NaN              1780000.00  14.392124   \n",
       "\n",
       "        Date  Year Quarter  \n",
       "0 2013-09-09  2013       3  \n",
       "1 2014-09-04  2014       3  \n",
       "2 2013-08-05  2013       3  \n",
       "3 2015-03-31  2015       1  \n",
       "4 2014-08-20  2014       3  \n",
       "\n",
       "[5 rows x 22 columns]"
      ]
     },
     "execution_count": 10,
     "metadata": {},
     "output_type": "execute_result"
    }
   ],
   "source": [
    "loan_transaction_data.head()"
   ]
  },
  {
   "cell_type": "code",
   "execution_count": 11,
   "metadata": {},
   "outputs": [
    {
     "data": {
      "text/plain": [
       "(23480, 22)"
      ]
     },
     "execution_count": 11,
     "metadata": {},
     "output_type": "execute_result"
    }
   ],
   "source": [
    "# Filter the Datasize for Workability and task magnitude - Focus on transactions in the Euro Zone and US Only\n",
    "ltd_focus = loan_transaction_data[loan_transaction_data['Currency Name'].str.contains(\"EURO|UNITED STATES\")]\n",
    "ltd_focus.shape"
   ]
  },
  {
   "cell_type": "code",
   "execution_count": 12,
   "metadata": {},
   "outputs": [],
   "source": [
    "# Remove some peculiar values occuring\n",
    "ltd_focus = ltd_focus[ltd_focus['Is Woman Owned?'].isin([0,1])]\n",
    "ltd_focus = ltd_focus[ltd_focus['Is First Time Borrower?'].isin([0,1])]"
   ]
  },
  {
   "cell_type": "code",
   "execution_count": 13,
   "metadata": {},
   "outputs": [
    {
     "data": {
      "image/png": "[encoded data removed]",
      "text/plain": [
       "<Figure size 432x288 with 1 Axes>"
      ]
     },
     "metadata": {
      "needs_background": "light"
     },
     "output_type": "display_data"
    }
   ],
   "source": [
    "# Initial Distribution of Log Amounts\n",
    "sns.histplot(data=ltd_focus, x=\"Log Amount\")\n",
    "plt.show()"
   ]
  },
  {
   "cell_type": "markdown",
   "metadata": {},
   "source": [
    "_We will work with the logarithm of the loan amount as the skewness in the distriubtion of nominal amounts muddies comparisons and makes only enormous differences noticable_"
   ]
  },
  {
   "cell_type": "code",
   "execution_count": 14,
   "metadata": {},
   "outputs": [
    {
     "data": {
      "image/png": "[encoded data removed]",
      "text/plain": [
       "<Figure size 523.375x360 with 1 Axes>"
      ]
     },
     "metadata": {
      "needs_background": "light"
     },
     "output_type": "display_data"
    }
   ],
   "source": [
    "# Initial Distribution of Amounts by currency\n",
    "colours = [\"#FF0B04\", \"#4374B3\"]\n",
    "sns.set_palette(sns.color_palette(colours))\n",
    "sns.displot(data=ltd_focus, x=\"Log Amount\", hue=\"Currency Name\", stat=\"density\", common_norm = False)\n",
    "plt.show()"
   ]
  },
  {
   "cell_type": "markdown",
   "metadata": {},
   "source": [
    "Here we see a _distinct_ difference in the distribution of banking loan transaction amounts for the two currencies. \n",
    "* This indicates there _may_ be some underlying _statistical_ relationship between characteristics of businsses requesting loans in these two currencies and the loan amounts requested "
   ]
  },
  {
   "cell_type": "code",
   "execution_count": 15,
   "metadata": {},
   "outputs": [
    {
     "data": {
      "image/png": "[encoded data removed]",
      "text/plain": [
       "<Figure size 432x288 with 1 Axes>"
      ]
     },
     "metadata": {
      "needs_background": "light"
     },
     "output_type": "display_data"
    }
   ],
   "source": [
    "# What do loan amounts look like over time? (Here end of loan contract)\n",
    "sns.scatterplot(data=ltd_focus, x=\"Date\", y=\"Log Amount\", alpha=0.075, hue=\"Currency Name\")\n",
    "plt.show()"
   ]
  },
  {
   "cell_type": "markdown",
   "metadata": {},
   "source": [
    "No clear trend results in either currency plotting all the data, although quite overplotted even with dilution."
   ]
  },
  {
   "cell_type": "code",
   "execution_count": 16,
   "metadata": {},
   "outputs": [],
   "source": [
    "# Group by Year and quarter to calculate average\n",
    "year_group = pd.DataFrame(ltd_focus.groupby('Year').mean())\n",
    "year_cur_group = pd.DataFrame(ltd_focus.groupby(['Year', 'Currency Name']).mean())"
   ]
  },
  {
   "cell_type": "code",
   "execution_count": 17,
   "metadata": {},
   "outputs": [
    {
     "data": {
      "image/png": "[encoded data removed]",
      "text/plain": [
       "<Figure size 432x288 with 1 Axes>"
      ]
     },
     "metadata": {
      "needs_background": "light"
     },
     "output_type": "display_data"
    }
   ],
   "source": [
    "sns.lineplot(data=year_group, x=\"Year\", y=\"Log Amount\", alpha=0.5)\n",
    "plt.show()"
   ]
  },
  {
   "cell_type": "markdown",
   "metadata": {},
   "source": [
    "Again, no clear overall trend element across both currencies and the discontinuites in the time sample can lead to misleading, striking jumps."
   ]
  },
  {
   "cell_type": "code",
   "execution_count": 18,
   "metadata": {},
   "outputs": [
    {
     "data": {
      "image/png": "[encoded data removed]",
      "text/plain": [
       "<Figure size 432x288 with 1 Axes>"
      ]
     },
     "metadata": {
      "needs_background": "light"
     },
     "output_type": "display_data"
    }
   ],
   "source": [
    "sns.lineplot(data=year_cur_group, x=\"Year\", y=\"Log Amount\", alpha=0.5, hue=\"Currency Name\")\n",
    "plt.show()"
   ]
  },
  {
   "cell_type": "markdown",
   "metadata": {},
   "source": [
    "Some overall similarities in the timely evolution of lending amounts across the two currencies:\n",
    "* Euro zone in particular seems to display a quadratic pattern in average loan amounts over the time period 2004-2023\n",
    "* United states dollar loans also exhibit a similar pattern over that period, however this relation breaks down for loans due in the late 2020's\n",
    "\n",
    "This could seem largely in line with knowledge of the global financial crisis that hit in 2007/08. Both these currencies and economic areas were significantly hit by drying up credit system. This could be tied to smaller average loans being offered when they were due for a few years after the crisis - 2010 - 2015 eg. 3-6 year loans. After the post crisis recovery came into swing this borrowing constraint started to relax slowly. \n"
   ]
  },
  {
   "cell_type": "code",
   "execution_count": 19,
   "metadata": {},
   "outputs": [
    {
     "data": {
      "image/png": "[encoded data removed]",
      "text/plain": [
       "<Figure size 459.75x360 with 1 Axes>"
      ]
     },
     "metadata": {
      "needs_background": "light"
     },
     "output_type": "display_data"
    }
   ],
   "source": [
    "# How does being a first time borrower and a female business owne\n",
    "sns.displot(data=ltd_focus, x=\"Log Amount\", hue=\"Is Woman Owned?\", stat=\"density\", common_norm = False)\n",
    "plt.show()"
   ]
  },
  {
   "cell_type": "code",
   "execution_count": 20,
   "metadata": {},
   "outputs": [
    {
     "data": {
      "image/png": "[encoded data removed]",
      "text/plain": [
       "<Figure size 481.375x360 with 1 Axes>"
      ]
     },
     "metadata": {
      "needs_background": "light"
     },
     "output_type": "display_data"
    }
   ],
   "source": [
    "sns.displot(data=ltd_focus, x=\"Log Amount\", hue=\"Is First Time Borrower?\", stat=\"density\", common_norm = False)\n",
    "plt.show()"
   ]
  },
  {
   "cell_type": "markdown",
   "metadata": {},
   "source": [
    "The distributions seem to be __largely__ spanning the same range of loan amounts for both:\n",
    "* Female owners and Male owners; and\n",
    "* First time borrowers and repeat borrowers.\n",
    "\n",
    "If anything, first time borrowers appear to more often take out larger loans than those who are repeat borrowews. This could be plausible although perhaps somewhat counterintuitive at a first glance. Initial business loans may be greater in size as during early stages costs are inflated before economies of scale kick in there is more scope for large mistakes in the \"start-up\" phase of the business lifecycle. "
   ]
  },
  {
   "cell_type": "code",
   "execution_count": 21,
   "metadata": {},
   "outputs": [
    {
     "data": {
      "image/png": "[encoded data removed]",
      "text/plain": [
       "<Figure size 1800x360 with 5 Axes>"
      ]
     },
     "metadata": {
      "needs_background": "light"
     },
     "output_type": "display_data"
    }
   ],
   "source": [
    "# What do loan amounts look like for different business sizes?\n",
    "sns.displot(data=ltd_focus, x=\"Log Amount\", col=\"Business Size\", stat=\"density\", common_norm = False, multiple = \"dodge\")\n",
    "plt.show()"
   ]
  },
  {
   "cell_type": "markdown",
   "metadata": {},
   "source": [
    "Evident from the above, the size of a business appears to have an impact on the potential scale of the loan:\n",
    "* Larger business appear to have a much greater access to larger loan values\n",
    "* This makes intuitive sense, more collateral, higher cashflow and stronger reputation reduces the default risk"
   ]
  },
  {
   "cell_type": "code",
   "execution_count": 22,
   "metadata": {},
   "outputs": [
    {
     "data": {
      "image/png": "[encoded data removed]",
      "text/plain": [
       "<Figure size 432x288 with 1 Axes>"
      ]
     },
     "metadata": {
      "needs_background": "light"
     },
     "output_type": "display_data"
    }
   ],
   "source": [
    "# What might the loans look like by business sector?\n",
    "sns.scatterplot(data=ltd_focus, x=\"Date\", y=\"Log Amount\", alpha=0.5, hue=\"Business Sector\", legend=False)\n",
    "plt.show()"
   ]
  },
  {
   "cell_type": "markdown",
   "metadata": {},
   "source": [
    "Some _significant clustering_ appears as we look at loans over time by business sector:\n",
    "* Businesses seeking loans at the same time, within the same sector appear to seek similar magnitude of loans for __some__ busines sectors - green (Housing)\n",
    "* Other business sectors do not see such a relationship - pink (Agriculture)"
   ]
  },
  {
   "cell_type": "markdown",
   "metadata": {},
   "source": [
    "### Summary of 5 Key Educational Insights:\n",
    "__* While there is a distinct difference in the distribution of loan amounts in EURO vs US DOLLAR, the overall trend pattern over time seems comparable across the currencies__\n",
    "\n",
    "__* Female business owners do not appear to be discriminated against in the loan market in terms of obtainable loan values__\n",
    "\n",
    "__* First time borrowers in fact appear to often borrow more money that repeat borrowers, perhaps contrary to an initial prior that they might be more restricted on credit__\n",
    "\n",
    "__* Larger businesses get preferential access to the largest loans offered__\n",
    "\n",
    "__* Loans appear to be very similar in magnitude for only certain business sectors, other business sectors are more varied__"
   ]
  },
  {
   "cell_type": "markdown",
   "metadata": {},
   "source": [
    "# Section 3: Manipulating the Dataset\n",
    "Time spent: 21 min\n",
    "\n",
    "-----"
   ]
  },
  {
   "cell_type": "code",
   "execution_count": null,
   "metadata": {},
   "outputs": [],
   "source": [
    "# Creating a class\n",
    "class MyData:\n",
    "  def __init__(filepath):\n",
    "    MyData.path = filepath"
   ]
  },
  {
   "cell_type": "code",
   "execution_count": 30,
   "metadata": {},
   "outputs": [],
   "source": [
    "# Standard Deviation Function\n",
    "def st_dev(df, ColName):\n",
    "    sd = df[ColName].std()\n",
    "    print(sd)\n",
    "    return None"
   ]
  },
  {
   "cell_type": "code",
   "execution_count": 31,
   "metadata": {},
   "outputs": [
    {
     "name": "stdout",
     "output_type": "stream",
     "text": [
      "1.7103175748096633\n"
     ]
    }
   ],
   "source": [
    "st_dev(ltd_focus,\"Log Amount\")"
   ]
  },
  {
   "cell_type": "code",
   "execution_count": 32,
   "metadata": {},
   "outputs": [
    {
     "data": {
      "text/plain": [
       "1.7103175748096633"
      ]
     },
     "execution_count": 32,
     "metadata": {},
     "output_type": "execute_result"
    }
   ],
   "source": [
    "ltd_focus[\"Log Amount\"].std()"
   ]
  },
  {
   "cell_type": "code",
   "execution_count": 34,
   "metadata": {},
   "outputs": [],
   "source": [
    "# Mean Function\n",
    "def mean_func(df, ColName):\n",
    "    mn = df[ColName].mean()\n",
    "    print(mn)\n",
    "    return None"
   ]
  },
  {
   "cell_type": "code",
   "execution_count": 36,
   "metadata": {},
   "outputs": [
    {
     "name": "stdout",
     "output_type": "stream",
     "text": [
      "7.47137434597656\n"
     ]
    }
   ],
   "source": [
    "mean_func(ltd_focus,\"Log Amount\")"
   ]
  },
  {
   "cell_type": "code",
   "execution_count": 51,
   "metadata": {},
   "outputs": [],
   "source": [
    "# Outlier Function\n",
    "def outl_func(df, ColName):\n",
    "    mn = df[ColName].mean()\n",
    "    sd = df[ColName].std()\n",
    "    band = 3 * sd\n",
    "    df[\"Outlier\"] = abs(df[ColName]) > abs(mn + band)\n",
    "    print(out)\n",
    "    return None"
   ]
  },
  {
   "cell_type": "markdown",
   "metadata": {},
   "source": [
    "# Section 4: Questions\n",
    "Time spent: 5 min\n",
    "\n",
    "1. What (if any) experience do you have in Cloud Services (eg. AWS, GCP)?\n",
    "\n",
    "Unfortunately I do not have any experience in Cloud services.\n",
    "\n",
    "2. What is your experience with building machine learning models? What packages are you familiar with?\n",
    "\n",
    "Several independent machine learning projects I have conducted both in R and Python, but none for an employment purpose or in any professional capacity. \n",
    "\n",
    "The machine learning models that I have used in both these softwares are as follows: \n",
    "* Linear regression\n",
    "* Logistic regression\n",
    "* Linear SVC\n",
    "* KNN classification\n",
    "\n",
    "------"
   ]
  }
 ],
 "metadata": {
  "kernelspec": {
   "display_name": "Python 3",
   "language": "python",
   "name": "python3"
  },
  "language_info": {
   "codemirror_mode": {
    "name": "ipython",
    "version": 3
   },
   "file_extension": ".py",
   "mimetype": "text/x-python",
   "name": "python",
   "nbconvert_exporter": "python",
   "pygments_lexer": "ipython3",
   "version": "3.8.5"
  }
 },
 "nbformat": 4,
 "nbformat_minor": 4
}
