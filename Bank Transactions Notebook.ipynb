{
 "cells": [
  {
   "cell_type": "code",
   "execution_count": 1,
   "metadata": {},
   "outputs": [],
   "source": [
    "# Load Libraries\n",
    "import pandas as pd\n",
    "import os\n",
    "import seaborn as sns\n",
    "import re\n",
    "import matplotlib.pyplot as plt\n",
    "from matplotlib import style\n",
    "style.use(\"ggplot\")\n",
    "from sklearn import svm\n",
    "from sklearn.cluster import KMeans\n",
    "from sklearn.model_selection import train_test_split\n",
    "from sklearn.metrics import accuracy_score\n",
    "from sklearn.preprocessing import scale\n",
    "from time import time\n",
    "from sklearn import metrics\n",
    "from sklearn.preprocessing import LabelEncoder\n",
    "from sklearn import neighbors, metrics\n",
    "from sklearn.metrics import confusion_matrix\n",
    "import pylab as pl"
   ]
  },
  {
   "cell_type": "code",
   "execution_count": 2,
   "metadata": {},
   "outputs": [
    {
     "data": {
      "text/plain": [
       "'C:\\\\Users\\\\jleco\\\\OneDrive - Nexus365\\\\Data Science Projects\\\\02. Python Learning\\\\Free Agent Task'"
      ]
     },
     "execution_count": 2,
     "metadata": {},
     "output_type": "execute_result"
    }
   ],
   "source": [
    "pwd"
   ]
  },
  {
   "cell_type": "code",
   "execution_count": 3,
   "metadata": {},
   "outputs": [
    {
     "data": {
      "text/html": [
       "<div>\n",
       "<style scoped>\n",
       "    .dataframe tbody tr th:only-of-type {\n",
       "        vertical-align: middle;\n",
       "    }\n",
       "\n",
       "    .dataframe tbody tr th {\n",
       "        vertical-align: top;\n",
       "    }\n",
       "\n",
       "    .dataframe thead th {\n",
       "        text-align: right;\n",
       "    }\n",
       "</style>\n",
       "<table border=\"1\" class=\"dataframe\">\n",
       "  <thead>\n",
       "    <tr style=\"text-align: right;\">\n",
       "      <th></th>\n",
       "      <th>bank_transaction_id</th>\n",
       "      <th>bank_transaction_category</th>\n",
       "      <th>bank_transaction_dataset</th>\n",
       "    </tr>\n",
       "  </thead>\n",
       "  <tbody>\n",
       "    <tr>\n",
       "      <th>0</th>\n",
       "      <td>21786195</td>\n",
       "      <td>TRAVEL</td>\n",
       "      <td>TRAIN</td>\n",
       "    </tr>\n",
       "    <tr>\n",
       "      <th>1</th>\n",
       "      <td>21786196</td>\n",
       "      <td>TRAVEL</td>\n",
       "      <td>TRAIN</td>\n",
       "    </tr>\n",
       "    <tr>\n",
       "      <th>2</th>\n",
       "      <td>21786197</td>\n",
       "      <td>TRAVEL</td>\n",
       "      <td>TRAIN</td>\n",
       "    </tr>\n",
       "    <tr>\n",
       "      <th>3</th>\n",
       "      <td>21786198</td>\n",
       "      <td>TRAVEL</td>\n",
       "      <td>TRAIN</td>\n",
       "    </tr>\n",
       "    <tr>\n",
       "      <th>4</th>\n",
       "      <td>21786199</td>\n",
       "      <td>TRAVEL</td>\n",
       "      <td>TRAIN</td>\n",
       "    </tr>\n",
       "  </tbody>\n",
       "</table>\n",
       "</div>"
      ],
      "text/plain": [
       "   bank_transaction_id bank_transaction_category bank_transaction_dataset\n",
       "0             21786195                    TRAVEL                    TRAIN\n",
       "1             21786196                    TRAVEL                    TRAIN\n",
       "2             21786197                    TRAVEL                    TRAIN\n",
       "3             21786198                    TRAVEL                    TRAIN\n",
       "4             21786199                    TRAVEL                    TRAIN"
      ]
     },
     "execution_count": 3,
     "metadata": {},
     "output_type": "execute_result"
    }
   ],
   "source": [
    "# Load Data Labels\n",
    "labels = pd.read_csv(r\"bank_transaction_labels.csv\")\n",
    "labels.head()"
   ]
  },
  {
   "cell_type": "code",
   "execution_count": 4,
   "metadata": {},
   "outputs": [
    {
     "data": {
      "text/html": [
       "<div>\n",
       "<style scoped>\n",
       "    .dataframe tbody tr th:only-of-type {\n",
       "        vertical-align: middle;\n",
       "    }\n",
       "\n",
       "    .dataframe tbody tr th {\n",
       "        vertical-align: top;\n",
       "    }\n",
       "\n",
       "    .dataframe thead th {\n",
       "        text-align: right;\n",
       "    }\n",
       "</style>\n",
       "<table border=\"1\" class=\"dataframe\">\n",
       "  <thead>\n",
       "    <tr style=\"text-align: right;\">\n",
       "      <th></th>\n",
       "      <th>bank_transaction_id</th>\n",
       "      <th>bank_transaction_description</th>\n",
       "      <th>bank_transaction_amount</th>\n",
       "      <th>bank_transaction_type</th>\n",
       "    </tr>\n",
       "  </thead>\n",
       "  <tbody>\n",
       "    <tr>\n",
       "      <th>0</th>\n",
       "      <td>21786195</td>\n",
       "      <td>citylink</td>\n",
       "      <td>-13.80</td>\n",
       "      <td>MPO</td>\n",
       "    </tr>\n",
       "    <tr>\n",
       "      <th>1</th>\n",
       "      <td>21786196</td>\n",
       "      <td>citylink</td>\n",
       "      <td>-13.14</td>\n",
       "      <td>DEB</td>\n",
       "    </tr>\n",
       "    <tr>\n",
       "      <th>2</th>\n",
       "      <td>21786197</td>\n",
       "      <td>1Jul19 OYSTER</td>\n",
       "      <td>-36.98</td>\n",
       "      <td>DEB</td>\n",
       "    </tr>\n",
       "    <tr>\n",
       "      <th>3</th>\n",
       "      <td>21786198</td>\n",
       "      <td>travelodge</td>\n",
       "      <td>-75.73</td>\n",
       "      <td>MPO</td>\n",
       "    </tr>\n",
       "    <tr>\n",
       "      <th>4</th>\n",
       "      <td>21786199</td>\n",
       "      <td>6Jul19 RINGGO</td>\n",
       "      <td>-37.86</td>\n",
       "      <td>CSH</td>\n",
       "    </tr>\n",
       "  </tbody>\n",
       "</table>\n",
       "</div>"
      ],
      "text/plain": [
       "   bank_transaction_id bank_transaction_description  bank_transaction_amount  \\\n",
       "0             21786195                     citylink                   -13.80   \n",
       "1             21786196                     citylink                   -13.14   \n",
       "2             21786197                1Jul19 OYSTER                   -36.98   \n",
       "3             21786198                   travelodge                   -75.73   \n",
       "4             21786199                6Jul19 RINGGO                   -37.86   \n",
       "\n",
       "  bank_transaction_type  \n",
       "0                   MPO  \n",
       "1                   DEB  \n",
       "2                   DEB  \n",
       "3                   MPO  \n",
       "4                   CSH  "
      ]
     },
     "execution_count": 4,
     "metadata": {},
     "output_type": "execute_result"
    }
   ],
   "source": [
    "# Load Data Features\n",
    "features = pd.read_csv(r\"bank_transaction_features.csv\")\n",
    "features.head()"
   ]
  },
  {
   "cell_type": "code",
   "execution_count": 5,
   "metadata": {},
   "outputs": [
    {
     "data": {
      "text/html": [
       "<div>\n",
       "<style scoped>\n",
       "    .dataframe tbody tr th:only-of-type {\n",
       "        vertical-align: middle;\n",
       "    }\n",
       "\n",
       "    .dataframe tbody tr th {\n",
       "        vertical-align: top;\n",
       "    }\n",
       "\n",
       "    .dataframe thead th {\n",
       "        text-align: right;\n",
       "    }\n",
       "</style>\n",
       "<table border=\"1\" class=\"dataframe\">\n",
       "  <thead>\n",
       "    <tr style=\"text-align: right;\">\n",
       "      <th></th>\n",
       "      <th>bank_transaction_id</th>\n",
       "      <th>bank_transaction_category</th>\n",
       "      <th>bank_transaction_dataset</th>\n",
       "      <th>bank_transaction_description</th>\n",
       "      <th>bank_transaction_amount</th>\n",
       "      <th>bank_transaction_type</th>\n",
       "    </tr>\n",
       "  </thead>\n",
       "  <tbody>\n",
       "    <tr>\n",
       "      <th>0</th>\n",
       "      <td>21786195</td>\n",
       "      <td>TRAVEL</td>\n",
       "      <td>TRAIN</td>\n",
       "      <td>citylink</td>\n",
       "      <td>-13.80</td>\n",
       "      <td>MPO</td>\n",
       "    </tr>\n",
       "    <tr>\n",
       "      <th>1</th>\n",
       "      <td>21786196</td>\n",
       "      <td>TRAVEL</td>\n",
       "      <td>TRAIN</td>\n",
       "      <td>citylink</td>\n",
       "      <td>-13.14</td>\n",
       "      <td>DEB</td>\n",
       "    </tr>\n",
       "    <tr>\n",
       "      <th>2</th>\n",
       "      <td>21786197</td>\n",
       "      <td>TRAVEL</td>\n",
       "      <td>TRAIN</td>\n",
       "      <td>1Jul19 OYSTER</td>\n",
       "      <td>-36.98</td>\n",
       "      <td>DEB</td>\n",
       "    </tr>\n",
       "    <tr>\n",
       "      <th>3</th>\n",
       "      <td>21786198</td>\n",
       "      <td>TRAVEL</td>\n",
       "      <td>TRAIN</td>\n",
       "      <td>travelodge</td>\n",
       "      <td>-75.73</td>\n",
       "      <td>MPO</td>\n",
       "    </tr>\n",
       "    <tr>\n",
       "      <th>4</th>\n",
       "      <td>21786199</td>\n",
       "      <td>TRAVEL</td>\n",
       "      <td>TRAIN</td>\n",
       "      <td>6Jul19 RINGGO</td>\n",
       "      <td>-37.86</td>\n",
       "      <td>CSH</td>\n",
       "    </tr>\n",
       "  </tbody>\n",
       "</table>\n",
       "</div>"
      ],
      "text/plain": [
       "   bank_transaction_id bank_transaction_category bank_transaction_dataset  \\\n",
       "0             21786195                    TRAVEL                    TRAIN   \n",
       "1             21786196                    TRAVEL                    TRAIN   \n",
       "2             21786197                    TRAVEL                    TRAIN   \n",
       "3             21786198                    TRAVEL                    TRAIN   \n",
       "4             21786199                    TRAVEL                    TRAIN   \n",
       "\n",
       "  bank_transaction_description  bank_transaction_amount bank_transaction_type  \n",
       "0                     citylink                   -13.80                   MPO  \n",
       "1                     citylink                   -13.14                   DEB  \n",
       "2                1Jul19 OYSTER                   -36.98                   DEB  \n",
       "3                   travelodge                   -75.73                   MPO  \n",
       "4                6Jul19 RINGGO                   -37.86                   CSH  "
      ]
     },
     "execution_count": 5,
     "metadata": {},
     "output_type": "execute_result"
    }
   ],
   "source": [
    "# Merge the two together based on transaction id\n",
    "labels_features = pd.merge(labels,features,on='bank_transaction_id',how='outer')\n",
    "labels_features.head()"
   ]
  },
  {
   "cell_type": "code",
   "execution_count": 6,
   "metadata": {},
   "outputs": [
    {
     "data": {
      "text/html": [
       "<div>\n",
       "<style scoped>\n",
       "    .dataframe tbody tr th:only-of-type {\n",
       "        vertical-align: middle;\n",
       "    }\n",
       "\n",
       "    .dataframe tbody tr th {\n",
       "        vertical-align: top;\n",
       "    }\n",
       "\n",
       "    .dataframe thead th {\n",
       "        text-align: right;\n",
       "    }\n",
       "</style>\n",
       "<table border=\"1\" class=\"dataframe\">\n",
       "  <thead>\n",
       "    <tr style=\"text-align: right;\">\n",
       "      <th></th>\n",
       "      <th>bank_transaction_id</th>\n",
       "      <th>bank_transaction_category</th>\n",
       "      <th>bank_transaction_dataset</th>\n",
       "      <th>bank_transaction_description</th>\n",
       "      <th>bank_transaction_amount</th>\n",
       "      <th>bank_transaction_type</th>\n",
       "      <th>desc_length</th>\n",
       "    </tr>\n",
       "  </thead>\n",
       "  <tbody>\n",
       "    <tr>\n",
       "      <th>0</th>\n",
       "      <td>21786195</td>\n",
       "      <td>TRAVEL</td>\n",
       "      <td>TRAIN</td>\n",
       "      <td>citylink</td>\n",
       "      <td>-13.80</td>\n",
       "      <td>MPO</td>\n",
       "      <td>8.0</td>\n",
       "    </tr>\n",
       "    <tr>\n",
       "      <th>1</th>\n",
       "      <td>21786196</td>\n",
       "      <td>TRAVEL</td>\n",
       "      <td>TRAIN</td>\n",
       "      <td>citylink</td>\n",
       "      <td>-13.14</td>\n",
       "      <td>DEB</td>\n",
       "      <td>8.0</td>\n",
       "    </tr>\n",
       "    <tr>\n",
       "      <th>2</th>\n",
       "      <td>21786197</td>\n",
       "      <td>TRAVEL</td>\n",
       "      <td>TRAIN</td>\n",
       "      <td>1Jul19 OYSTER</td>\n",
       "      <td>-36.98</td>\n",
       "      <td>DEB</td>\n",
       "      <td>13.0</td>\n",
       "    </tr>\n",
       "    <tr>\n",
       "      <th>3</th>\n",
       "      <td>21786198</td>\n",
       "      <td>TRAVEL</td>\n",
       "      <td>TRAIN</td>\n",
       "      <td>travelodge</td>\n",
       "      <td>-75.73</td>\n",
       "      <td>MPO</td>\n",
       "      <td>10.0</td>\n",
       "    </tr>\n",
       "    <tr>\n",
       "      <th>4</th>\n",
       "      <td>21786199</td>\n",
       "      <td>TRAVEL</td>\n",
       "      <td>TRAIN</td>\n",
       "      <td>6Jul19 RINGGO</td>\n",
       "      <td>-37.86</td>\n",
       "      <td>CSH</td>\n",
       "      <td>13.0</td>\n",
       "    </tr>\n",
       "  </tbody>\n",
       "</table>\n",
       "</div>"
      ],
      "text/plain": [
       "   bank_transaction_id bank_transaction_category bank_transaction_dataset  \\\n",
       "0             21786195                    TRAVEL                    TRAIN   \n",
       "1             21786196                    TRAVEL                    TRAIN   \n",
       "2             21786197                    TRAVEL                    TRAIN   \n",
       "3             21786198                    TRAVEL                    TRAIN   \n",
       "4             21786199                    TRAVEL                    TRAIN   \n",
       "\n",
       "  bank_transaction_description  bank_transaction_amount bank_transaction_type  \\\n",
       "0                     citylink                   -13.80                   MPO   \n",
       "1                     citylink                   -13.14                   DEB   \n",
       "2                1Jul19 OYSTER                   -36.98                   DEB   \n",
       "3                   travelodge                   -75.73                   MPO   \n",
       "4                6Jul19 RINGGO                   -37.86                   CSH   \n",
       "\n",
       "   desc_length  \n",
       "0          8.0  \n",
       "1          8.0  \n",
       "2         13.0  \n",
       "3         10.0  \n",
       "4         13.0  "
      ]
     },
     "execution_count": 6,
     "metadata": {},
     "output_type": "execute_result"
    }
   ],
   "source": [
    "# Add length and first digit of the description as this might be a useful way to summarize statistically on the description\n",
    "labels_features[\"desc_length\"] = labels_features[\"bank_transaction_description\"].str.len()\n",
    "labels_features.head()\n"
   ]
  },
  {
   "cell_type": "code",
   "execution_count": 7,
   "metadata": {},
   "outputs": [
    {
     "data": {
      "text/plain": [
       "bank_transaction_id          12500\n",
       "bank_transaction_category    12500\n",
       "bank_transaction_dataset     12500\n",
       "dtype: int64"
      ]
     },
     "execution_count": 7,
     "metadata": {},
     "output_type": "execute_result"
    }
   ],
   "source": [
    "# Assess dimensionality of outer join to check no lost observations in join\n",
    "labels.count()"
   ]
  },
  {
   "cell_type": "code",
   "execution_count": 8,
   "metadata": {},
   "outputs": [
    {
     "data": {
      "text/plain": [
       "bank_transaction_id             12500\n",
       "bank_transaction_description    12369\n",
       "bank_transaction_amount         12500\n",
       "bank_transaction_type           12500\n",
       "dtype: int64"
      ]
     },
     "execution_count": 8,
     "metadata": {},
     "output_type": "execute_result"
    }
   ],
   "source": [
    "features.count()"
   ]
  },
  {
   "cell_type": "code",
   "execution_count": 9,
   "metadata": {},
   "outputs": [
    {
     "data": {
      "text/plain": [
       "bank_transaction_id             12500\n",
       "bank_transaction_category       12500\n",
       "bank_transaction_dataset        12500\n",
       "bank_transaction_description    12369\n",
       "bank_transaction_amount         12500\n",
       "bank_transaction_type           12500\n",
       "desc_length                     12369\n",
       "dtype: int64"
      ]
     },
     "execution_count": 9,
     "metadata": {},
     "output_type": "execute_result"
    }
   ],
   "source": [
    "labels_features.count()"
   ]
  },
  {
   "cell_type": "code",
   "execution_count": 10,
   "metadata": {},
   "outputs": [
    {
     "data": {
      "text/plain": [
       "True"
      ]
     },
     "execution_count": 10,
     "metadata": {},
     "output_type": "execute_result"
    }
   ],
   "source": [
    "# Note a few transactions are missing descriptions.\n",
    "# Need to deal with these at some point prior to modelling.\n",
    "labels_features.isnull().values.any()"
   ]
  },
  {
   "cell_type": "code",
   "execution_count": 11,
   "metadata": {},
   "outputs": [
    {
     "data": {
      "text/plain": [
       "262"
      ]
     },
     "execution_count": 11,
     "metadata": {},
     "output_type": "execute_result"
    }
   ],
   "source": [
    "labels_features.isnull().sum().sum()"
   ]
  },
  {
   "cell_type": "code",
   "execution_count": 12,
   "metadata": {},
   "outputs": [
    {
     "data": {
      "text/plain": [
       "131"
      ]
     },
     "execution_count": 12,
     "metadata": {},
     "output_type": "execute_result"
    }
   ],
   "source": [
    "# All are NaNs and only column affected is the bank transaction description\n",
    "labels_features['bank_transaction_description'].isnull().sum()"
   ]
  },
  {
   "cell_type": "code",
   "execution_count": 13,
   "metadata": {},
   "outputs": [
    {
     "data": {
      "text/html": [
       "<div>\n",
       "<style scoped>\n",
       "    .dataframe tbody tr th:only-of-type {\n",
       "        vertical-align: middle;\n",
       "    }\n",
       "\n",
       "    .dataframe tbody tr th {\n",
       "        vertical-align: top;\n",
       "    }\n",
       "\n",
       "    .dataframe thead th {\n",
       "        text-align: right;\n",
       "    }\n",
       "</style>\n",
       "<table border=\"1\" class=\"dataframe\">\n",
       "  <thead>\n",
       "    <tr style=\"text-align: right;\">\n",
       "      <th>col_0</th>\n",
       "      <th>Count</th>\n",
       "    </tr>\n",
       "    <tr>\n",
       "      <th>bank_transaction_category</th>\n",
       "      <th></th>\n",
       "    </tr>\n",
       "  </thead>\n",
       "  <tbody>\n",
       "    <tr>\n",
       "      <th>ACCOMMODATION_AND_MEALS</th>\n",
       "      <td>3765</td>\n",
       "    </tr>\n",
       "    <tr>\n",
       "      <th>BANK_OR_FINANCE_CHARGES</th>\n",
       "      <td>2790</td>\n",
       "    </tr>\n",
       "    <tr>\n",
       "      <th>INSURANCE</th>\n",
       "      <td>1170</td>\n",
       "    </tr>\n",
       "    <tr>\n",
       "      <th>MOTOR_EXPENSES</th>\n",
       "      <td>1609</td>\n",
       "    </tr>\n",
       "    <tr>\n",
       "      <th>TRAVEL</th>\n",
       "      <td>3166</td>\n",
       "    </tr>\n",
       "  </tbody>\n",
       "</table>\n",
       "</div>"
      ],
      "text/plain": [
       "col_0                      Count\n",
       "bank_transaction_category       \n",
       "ACCOMMODATION_AND_MEALS     3765\n",
       "BANK_OR_FINANCE_CHARGES     2790\n",
       "INSURANCE                   1170\n",
       "MOTOR_EXPENSES              1609\n",
       "TRAVEL                      3166"
      ]
     },
     "execution_count": 13,
     "metadata": {},
     "output_type": "execute_result"
    }
   ],
   "source": [
    "# Question 1: Exploratory Data Analysis\n",
    "# How many transactions do we have of each type?\n",
    "pd.crosstab(labels_features['bank_transaction_category'], \"Count\")"
   ]
  },
  {
   "cell_type": "code",
   "execution_count": 14,
   "metadata": {},
   "outputs": [
    {
     "data": {
      "text/html": [
       "<div>\n",
       "<style scoped>\n",
       "    .dataframe tbody tr th:only-of-type {\n",
       "        vertical-align: middle;\n",
       "    }\n",
       "\n",
       "    .dataframe tbody tr th {\n",
       "        vertical-align: top;\n",
       "    }\n",
       "\n",
       "    .dataframe thead th {\n",
       "        text-align: right;\n",
       "    }\n",
       "</style>\n",
       "<table border=\"1\" class=\"dataframe\">\n",
       "  <thead>\n",
       "    <tr style=\"text-align: right;\">\n",
       "      <th>bank_transaction_type</th>\n",
       "      <th>CHG</th>\n",
       "      <th>CSH</th>\n",
       "      <th>DD</th>\n",
       "      <th>DEB</th>\n",
       "      <th>FPO</th>\n",
       "      <th>MPO</th>\n",
       "    </tr>\n",
       "    <tr>\n",
       "      <th>bank_transaction_category</th>\n",
       "      <th></th>\n",
       "      <th></th>\n",
       "      <th></th>\n",
       "      <th></th>\n",
       "      <th></th>\n",
       "      <th></th>\n",
       "    </tr>\n",
       "  </thead>\n",
       "  <tbody>\n",
       "    <tr>\n",
       "      <th>ACCOMMODATION_AND_MEALS</th>\n",
       "      <td>0</td>\n",
       "      <td>1112</td>\n",
       "      <td>0</td>\n",
       "      <td>1941</td>\n",
       "      <td>398</td>\n",
       "      <td>314</td>\n",
       "    </tr>\n",
       "    <tr>\n",
       "      <th>BANK_OR_FINANCE_CHARGES</th>\n",
       "      <td>2510</td>\n",
       "      <td>0</td>\n",
       "      <td>0</td>\n",
       "      <td>0</td>\n",
       "      <td>149</td>\n",
       "      <td>131</td>\n",
       "    </tr>\n",
       "    <tr>\n",
       "      <th>INSURANCE</th>\n",
       "      <td>0</td>\n",
       "      <td>0</td>\n",
       "      <td>940</td>\n",
       "      <td>0</td>\n",
       "      <td>111</td>\n",
       "      <td>119</td>\n",
       "    </tr>\n",
       "    <tr>\n",
       "      <th>MOTOR_EXPENSES</th>\n",
       "      <td>0</td>\n",
       "      <td>261</td>\n",
       "      <td>168</td>\n",
       "      <td>865</td>\n",
       "      <td>17</td>\n",
       "      <td>298</td>\n",
       "    </tr>\n",
       "    <tr>\n",
       "      <th>TRAVEL</th>\n",
       "      <td>0</td>\n",
       "      <td>668</td>\n",
       "      <td>0</td>\n",
       "      <td>1872</td>\n",
       "      <td>4</td>\n",
       "      <td>622</td>\n",
       "    </tr>\n",
       "  </tbody>\n",
       "</table>\n",
       "</div>"
      ],
      "text/plain": [
       "bank_transaction_type       CHG   CSH   DD   DEB  FPO  MPO\n",
       "bank_transaction_category                                 \n",
       "ACCOMMODATION_AND_MEALS       0  1112    0  1941  398  314\n",
       "BANK_OR_FINANCE_CHARGES    2510     0    0     0  149  131\n",
       "INSURANCE                     0     0  940     0  111  119\n",
       "MOTOR_EXPENSES                0   261  168   865   17  298\n",
       "TRAVEL                        0   668    0  1872    4  622"
      ]
     },
     "execution_count": 14,
     "metadata": {},
     "output_type": "execute_result"
    }
   ],
   "source": [
    "# Which types fall in which categories?\n",
    "pd.crosstab(labels_features['bank_transaction_category'], labels_features[\"bank_transaction_type\"])"
   ]
  },
  {
   "cell_type": "code",
   "execution_count": 15,
   "metadata": {},
   "outputs": [
    {
     "data": {
      "text/html": [
       "<div>\n",
       "<style scoped>\n",
       "    .dataframe tbody tr th:only-of-type {\n",
       "        vertical-align: middle;\n",
       "    }\n",
       "\n",
       "    .dataframe tbody tr th {\n",
       "        vertical-align: top;\n",
       "    }\n",
       "\n",
       "    .dataframe thead th {\n",
       "        text-align: right;\n",
       "    }\n",
       "</style>\n",
       "<table border=\"1\" class=\"dataframe\">\n",
       "  <thead>\n",
       "    <tr style=\"text-align: right;\">\n",
       "      <th>bank_transaction_type</th>\n",
       "      <th>CHG</th>\n",
       "      <th>CSH</th>\n",
       "      <th>DD</th>\n",
       "      <th>DEB</th>\n",
       "      <th>FPO</th>\n",
       "      <th>MPO</th>\n",
       "    </tr>\n",
       "    <tr>\n",
       "      <th>bank_transaction_category</th>\n",
       "      <th></th>\n",
       "      <th></th>\n",
       "      <th></th>\n",
       "      <th></th>\n",
       "      <th></th>\n",
       "      <th></th>\n",
       "    </tr>\n",
       "  </thead>\n",
       "  <tbody>\n",
       "    <tr>\n",
       "      <th>ACCOMMODATION_AND_MEALS</th>\n",
       "      <td>0.000000</td>\n",
       "      <td>0.295352</td>\n",
       "      <td>0.000000</td>\n",
       "      <td>0.515538</td>\n",
       "      <td>0.105710</td>\n",
       "      <td>0.083400</td>\n",
       "    </tr>\n",
       "    <tr>\n",
       "      <th>BANK_OR_FINANCE_CHARGES</th>\n",
       "      <td>0.899642</td>\n",
       "      <td>0.000000</td>\n",
       "      <td>0.000000</td>\n",
       "      <td>0.000000</td>\n",
       "      <td>0.053405</td>\n",
       "      <td>0.046953</td>\n",
       "    </tr>\n",
       "    <tr>\n",
       "      <th>INSURANCE</th>\n",
       "      <td>0.000000</td>\n",
       "      <td>0.000000</td>\n",
       "      <td>0.803419</td>\n",
       "      <td>0.000000</td>\n",
       "      <td>0.094872</td>\n",
       "      <td>0.101709</td>\n",
       "    </tr>\n",
       "    <tr>\n",
       "      <th>MOTOR_EXPENSES</th>\n",
       "      <td>0.000000</td>\n",
       "      <td>0.162213</td>\n",
       "      <td>0.104413</td>\n",
       "      <td>0.537601</td>\n",
       "      <td>0.010566</td>\n",
       "      <td>0.185208</td>\n",
       "    </tr>\n",
       "    <tr>\n",
       "      <th>TRAVEL</th>\n",
       "      <td>0.000000</td>\n",
       "      <td>0.210992</td>\n",
       "      <td>0.000000</td>\n",
       "      <td>0.591282</td>\n",
       "      <td>0.001263</td>\n",
       "      <td>0.196462</td>\n",
       "    </tr>\n",
       "  </tbody>\n",
       "</table>\n",
       "</div>"
      ],
      "text/plain": [
       "bank_transaction_type           CHG       CSH        DD       DEB       FPO  \\\n",
       "bank_transaction_category                                                     \n",
       "ACCOMMODATION_AND_MEALS    0.000000  0.295352  0.000000  0.515538  0.105710   \n",
       "BANK_OR_FINANCE_CHARGES    0.899642  0.000000  0.000000  0.000000  0.053405   \n",
       "INSURANCE                  0.000000  0.000000  0.803419  0.000000  0.094872   \n",
       "MOTOR_EXPENSES             0.000000  0.162213  0.104413  0.537601  0.010566   \n",
       "TRAVEL                     0.000000  0.210992  0.000000  0.591282  0.001263   \n",
       "\n",
       "bank_transaction_type           MPO  \n",
       "bank_transaction_category            \n",
       "ACCOMMODATION_AND_MEALS    0.083400  \n",
       "BANK_OR_FINANCE_CHARGES    0.046953  \n",
       "INSURANCE                  0.101709  \n",
       "MOTOR_EXPENSES             0.185208  \n",
       "TRAVEL                     0.196462  "
      ]
     },
     "execution_count": 15,
     "metadata": {},
     "output_type": "execute_result"
    }
   ],
   "source": [
    "pd.crosstab(labels_features['bank_transaction_category'], labels_features[\"bank_transaction_type\"], normalize = 'index')"
   ]
  },
  {
   "cell_type": "code",
   "execution_count": 16,
   "metadata": {},
   "outputs": [
    {
     "data": {
      "text/plain": [
       "<seaborn.axisgrid.FacetGrid at 0x162c8d32cd0>"
      ]
     },
     "execution_count": 16,
     "metadata": {},
     "output_type": "execute_result"
    },
    {
     "data": {
      "image/png": "[encoded data removed]",
      "text/plain": [
       "<Figure size 360x360 with 1 Axes>"
      ]
     },
     "metadata": {},
     "output_type": "display_data"
    }
   ],
   "source": [
    "# What does the distribution of transaction amounts look like for each category?\n",
    "dist_plot = sns.catplot(x=\"bank_transaction_category\", y=\"bank_transaction_amount\", kind='box',data=labels_features)\n",
    "dist_plot.set_xticklabels([\"TRAVEL\", \"MOTOR\", \"ACC & FOOD\", \"BANK/FINANCE\", \"INSURANCE\"],rotation=30)"
   ]
  },
  {
   "cell_type": "code",
   "execution_count": 17,
   "metadata": {},
   "outputs": [
    {
     "data": {
      "text/plain": [
       "<seaborn.axisgrid.FacetGrid at 0x162c8cbf820>"
      ]
     },
     "execution_count": 17,
     "metadata": {},
     "output_type": "execute_result"
    },
    {
     "data": {
      "image/png": "[encoded data removed]",
      "text/plain": [
       "<Figure size 360x360 with 1 Axes>"
      ]
     },
     "metadata": {},
     "output_type": "display_data"
    }
   ],
   "source": [
    "# What does the distribution of description lengths look like for each category?\n",
    "dist_plot = sns.catplot(x=\"bank_transaction_category\", y=\"desc_length\", kind='box',data=labels_features)\n",
    "dist_plot.set_xticklabels([\"TRAVEL\", \"MOTOR\", \"ACC & FOOD\", \"BANK/FINANCE\", \"INSURANCE\"],rotation=30)"
   ]
  },
  {
   "cell_type": "code",
   "execution_count": 18,
   "metadata": {},
   "outputs": [
    {
     "data": {
      "text/html": [
       "<div>\n",
       "<style scoped>\n",
       "    .dataframe tbody tr th:only-of-type {\n",
       "        vertical-align: middle;\n",
       "    }\n",
       "\n",
       "    .dataframe tbody tr th {\n",
       "        vertical-align: top;\n",
       "    }\n",
       "\n",
       "    .dataframe thead th {\n",
       "        text-align: right;\n",
       "    }\n",
       "</style>\n",
       "<table border=\"1\" class=\"dataframe\">\n",
       "  <thead>\n",
       "    <tr style=\"text-align: right;\">\n",
       "      <th>col_0</th>\n",
       "      <th>Count</th>\n",
       "    </tr>\n",
       "    <tr>\n",
       "      <th>bank_transaction_dataset</th>\n",
       "      <th></th>\n",
       "    </tr>\n",
       "  </thead>\n",
       "  <tbody>\n",
       "    <tr>\n",
       "      <th>TRAIN</th>\n",
       "      <td>10000</td>\n",
       "    </tr>\n",
       "    <tr>\n",
       "      <th>VAL</th>\n",
       "      <td>2500</td>\n",
       "    </tr>\n",
       "  </tbody>\n",
       "</table>\n",
       "</div>"
      ],
      "text/plain": [
       "col_0                     Count\n",
       "bank_transaction_dataset       \n",
       "TRAIN                     10000\n",
       "VAL                        2500"
      ]
     },
     "execution_count": 18,
     "metadata": {},
     "output_type": "execute_result"
    }
   ],
   "source": [
    "# How different are these statistics when comparing by train / test split\n",
    "pd.crosstab(labels_features['bank_transaction_dataset'], \"Count\")"
   ]
  },
  {
   "cell_type": "code",
   "execution_count": 19,
   "metadata": {},
   "outputs": [
    {
     "data": {
      "text/html": [
       "<div>\n",
       "<style scoped>\n",
       "    .dataframe tbody tr th:only-of-type {\n",
       "        vertical-align: middle;\n",
       "    }\n",
       "\n",
       "    .dataframe tbody tr th {\n",
       "        vertical-align: top;\n",
       "    }\n",
       "\n",
       "    .dataframe thead th {\n",
       "        text-align: right;\n",
       "    }\n",
       "</style>\n",
       "<table border=\"1\" class=\"dataframe\">\n",
       "  <thead>\n",
       "    <tr style=\"text-align: right;\">\n",
       "      <th>bank_transaction_dataset</th>\n",
       "      <th>TRAIN</th>\n",
       "      <th>VAL</th>\n",
       "    </tr>\n",
       "    <tr>\n",
       "      <th>bank_transaction_category</th>\n",
       "      <th></th>\n",
       "      <th></th>\n",
       "    </tr>\n",
       "  </thead>\n",
       "  <tbody>\n",
       "    <tr>\n",
       "      <th>ACCOMMODATION_AND_MEALS</th>\n",
       "      <td>3017</td>\n",
       "      <td>748</td>\n",
       "    </tr>\n",
       "    <tr>\n",
       "      <th>BANK_OR_FINANCE_CHARGES</th>\n",
       "      <td>2250</td>\n",
       "      <td>540</td>\n",
       "    </tr>\n",
       "    <tr>\n",
       "      <th>INSURANCE</th>\n",
       "      <td>920</td>\n",
       "      <td>250</td>\n",
       "    </tr>\n",
       "    <tr>\n",
       "      <th>MOTOR_EXPENSES</th>\n",
       "      <td>1235</td>\n",
       "      <td>374</td>\n",
       "    </tr>\n",
       "    <tr>\n",
       "      <th>TRAVEL</th>\n",
       "      <td>2578</td>\n",
       "      <td>588</td>\n",
       "    </tr>\n",
       "  </tbody>\n",
       "</table>\n",
       "</div>"
      ],
      "text/plain": [
       "bank_transaction_dataset   TRAIN  VAL\n",
       "bank_transaction_category            \n",
       "ACCOMMODATION_AND_MEALS     3017  748\n",
       "BANK_OR_FINANCE_CHARGES     2250  540\n",
       "INSURANCE                    920  250\n",
       "MOTOR_EXPENSES              1235  374\n",
       "TRAVEL                      2578  588"
      ]
     },
     "execution_count": 19,
     "metadata": {},
     "output_type": "execute_result"
    }
   ],
   "source": [
    "pd.crosstab(labels_features['bank_transaction_category'], labels_features['bank_transaction_dataset'])"
   ]
  },
  {
   "cell_type": "code",
   "execution_count": 20,
   "metadata": {},
   "outputs": [
    {
     "data": {
      "text/html": [
       "<div>\n",
       "<style scoped>\n",
       "    .dataframe tbody tr th:only-of-type {\n",
       "        vertical-align: middle;\n",
       "    }\n",
       "\n",
       "    .dataframe tbody tr th {\n",
       "        vertical-align: top;\n",
       "    }\n",
       "\n",
       "    .dataframe thead th {\n",
       "        text-align: right;\n",
       "    }\n",
       "</style>\n",
       "<table border=\"1\" class=\"dataframe\">\n",
       "  <thead>\n",
       "    <tr style=\"text-align: right;\">\n",
       "      <th>bank_transaction_dataset</th>\n",
       "      <th>TRAIN</th>\n",
       "      <th>VAL</th>\n",
       "    </tr>\n",
       "    <tr>\n",
       "      <th>bank_transaction_category</th>\n",
       "      <th></th>\n",
       "      <th></th>\n",
       "    </tr>\n",
       "  </thead>\n",
       "  <tbody>\n",
       "    <tr>\n",
       "      <th>ACCOMMODATION_AND_MEALS</th>\n",
       "      <td>0.801328</td>\n",
       "      <td>0.198672</td>\n",
       "    </tr>\n",
       "    <tr>\n",
       "      <th>BANK_OR_FINANCE_CHARGES</th>\n",
       "      <td>0.806452</td>\n",
       "      <td>0.193548</td>\n",
       "    </tr>\n",
       "    <tr>\n",
       "      <th>INSURANCE</th>\n",
       "      <td>0.786325</td>\n",
       "      <td>0.213675</td>\n",
       "    </tr>\n",
       "    <tr>\n",
       "      <th>MOTOR_EXPENSES</th>\n",
       "      <td>0.767557</td>\n",
       "      <td>0.232443</td>\n",
       "    </tr>\n",
       "    <tr>\n",
       "      <th>TRAVEL</th>\n",
       "      <td>0.814277</td>\n",
       "      <td>0.185723</td>\n",
       "    </tr>\n",
       "  </tbody>\n",
       "</table>\n",
       "</div>"
      ],
      "text/plain": [
       "bank_transaction_dataset      TRAIN       VAL\n",
       "bank_transaction_category                    \n",
       "ACCOMMODATION_AND_MEALS    0.801328  0.198672\n",
       "BANK_OR_FINANCE_CHARGES    0.806452  0.193548\n",
       "INSURANCE                  0.786325  0.213675\n",
       "MOTOR_EXPENSES             0.767557  0.232443\n",
       "TRAVEL                     0.814277  0.185723"
      ]
     },
     "execution_count": 20,
     "metadata": {},
     "output_type": "execute_result"
    }
   ],
   "source": [
    "pd.crosstab(labels_features['bank_transaction_category'], labels_features['bank_transaction_dataset'], normalize = 'index')"
   ]
  },
  {
   "cell_type": "code",
   "execution_count": 21,
   "metadata": {},
   "outputs": [],
   "source": [
    "train = labels_features[labels_features['bank_transaction_dataset'] == \"TRAIN\"]\n",
    "validation = labels_features[labels_features['bank_transaction_dataset'] == \"VAL\"]\n"
   ]
  },
  {
   "cell_type": "code",
   "execution_count": 22,
   "metadata": {},
   "outputs": [
    {
     "data": {
      "text/html": [
       "<div>\n",
       "<style scoped>\n",
       "    .dataframe tbody tr th:only-of-type {\n",
       "        vertical-align: middle;\n",
       "    }\n",
       "\n",
       "    .dataframe tbody tr th {\n",
       "        vertical-align: top;\n",
       "    }\n",
       "\n",
       "    .dataframe thead th {\n",
       "        text-align: right;\n",
       "    }\n",
       "</style>\n",
       "<table border=\"1\" class=\"dataframe\">\n",
       "  <thead>\n",
       "    <tr style=\"text-align: right;\">\n",
       "      <th>bank_transaction_type</th>\n",
       "      <th>CHG</th>\n",
       "      <th>CSH</th>\n",
       "      <th>DD</th>\n",
       "      <th>DEB</th>\n",
       "      <th>FPO</th>\n",
       "      <th>MPO</th>\n",
       "    </tr>\n",
       "    <tr>\n",
       "      <th>bank_transaction_category</th>\n",
       "      <th></th>\n",
       "      <th></th>\n",
       "      <th></th>\n",
       "      <th></th>\n",
       "      <th></th>\n",
       "      <th></th>\n",
       "    </tr>\n",
       "  </thead>\n",
       "  <tbody>\n",
       "    <tr>\n",
       "      <th>ACCOMMODATION_AND_MEALS</th>\n",
       "      <td>0.000000</td>\n",
       "      <td>0.307259</td>\n",
       "      <td>0.000000</td>\n",
       "      <td>0.502486</td>\n",
       "      <td>0.101757</td>\n",
       "      <td>0.088499</td>\n",
       "    </tr>\n",
       "    <tr>\n",
       "      <th>BANK_OR_FINANCE_CHARGES</th>\n",
       "      <td>0.901778</td>\n",
       "      <td>0.000000</td>\n",
       "      <td>0.000000</td>\n",
       "      <td>0.000000</td>\n",
       "      <td>0.048889</td>\n",
       "      <td>0.049333</td>\n",
       "    </tr>\n",
       "    <tr>\n",
       "      <th>INSURANCE</th>\n",
       "      <td>0.000000</td>\n",
       "      <td>0.000000</td>\n",
       "      <td>0.802174</td>\n",
       "      <td>0.000000</td>\n",
       "      <td>0.096739</td>\n",
       "      <td>0.101087</td>\n",
       "    </tr>\n",
       "    <tr>\n",
       "      <th>MOTOR_EXPENSES</th>\n",
       "      <td>0.000000</td>\n",
       "      <td>0.165992</td>\n",
       "      <td>0.099595</td>\n",
       "      <td>0.548178</td>\n",
       "      <td>0.010526</td>\n",
       "      <td>0.175709</td>\n",
       "    </tr>\n",
       "    <tr>\n",
       "      <th>TRAVEL</th>\n",
       "      <td>0.000000</td>\n",
       "      <td>0.204810</td>\n",
       "      <td>0.000000</td>\n",
       "      <td>0.591156</td>\n",
       "      <td>0.001552</td>\n",
       "      <td>0.202483</td>\n",
       "    </tr>\n",
       "  </tbody>\n",
       "</table>\n",
       "</div>"
      ],
      "text/plain": [
       "bank_transaction_type           CHG       CSH        DD       DEB       FPO  \\\n",
       "bank_transaction_category                                                     \n",
       "ACCOMMODATION_AND_MEALS    0.000000  0.307259  0.000000  0.502486  0.101757   \n",
       "BANK_OR_FINANCE_CHARGES    0.901778  0.000000  0.000000  0.000000  0.048889   \n",
       "INSURANCE                  0.000000  0.000000  0.802174  0.000000  0.096739   \n",
       "MOTOR_EXPENSES             0.000000  0.165992  0.099595  0.548178  0.010526   \n",
       "TRAVEL                     0.000000  0.204810  0.000000  0.591156  0.001552   \n",
       "\n",
       "bank_transaction_type           MPO  \n",
       "bank_transaction_category            \n",
       "ACCOMMODATION_AND_MEALS    0.088499  \n",
       "BANK_OR_FINANCE_CHARGES    0.049333  \n",
       "INSURANCE                  0.101087  \n",
       "MOTOR_EXPENSES             0.175709  \n",
       "TRAVEL                     0.202483  "
      ]
     },
     "execution_count": 22,
     "metadata": {},
     "output_type": "execute_result"
    }
   ],
   "source": [
    "pd.crosstab(train['bank_transaction_category'], train[\"bank_transaction_type\"], normalize = 'index')"
   ]
  },
  {
   "cell_type": "code",
   "execution_count": 23,
   "metadata": {},
   "outputs": [
    {
     "data": {
      "text/html": [
       "<div>\n",
       "<style scoped>\n",
       "    .dataframe tbody tr th:only-of-type {\n",
       "        vertical-align: middle;\n",
       "    }\n",
       "\n",
       "    .dataframe tbody tr th {\n",
       "        vertical-align: top;\n",
       "    }\n",
       "\n",
       "    .dataframe thead th {\n",
       "        text-align: right;\n",
       "    }\n",
       "</style>\n",
       "<table border=\"1\" class=\"dataframe\">\n",
       "  <thead>\n",
       "    <tr style=\"text-align: right;\">\n",
       "      <th>bank_transaction_type</th>\n",
       "      <th>CHG</th>\n",
       "      <th>CSH</th>\n",
       "      <th>DD</th>\n",
       "      <th>DEB</th>\n",
       "      <th>FPO</th>\n",
       "      <th>MPO</th>\n",
       "    </tr>\n",
       "    <tr>\n",
       "      <th>bank_transaction_category</th>\n",
       "      <th></th>\n",
       "      <th></th>\n",
       "      <th></th>\n",
       "      <th></th>\n",
       "      <th></th>\n",
       "      <th></th>\n",
       "    </tr>\n",
       "  </thead>\n",
       "  <tbody>\n",
       "    <tr>\n",
       "      <th>ACCOMMODATION_AND_MEALS</th>\n",
       "      <td>0.000000</td>\n",
       "      <td>0.247326</td>\n",
       "      <td>0.000000</td>\n",
       "      <td>0.568182</td>\n",
       "      <td>0.121658</td>\n",
       "      <td>0.062834</td>\n",
       "    </tr>\n",
       "    <tr>\n",
       "      <th>BANK_OR_FINANCE_CHARGES</th>\n",
       "      <td>0.890741</td>\n",
       "      <td>0.000000</td>\n",
       "      <td>0.000000</td>\n",
       "      <td>0.000000</td>\n",
       "      <td>0.072222</td>\n",
       "      <td>0.037037</td>\n",
       "    </tr>\n",
       "    <tr>\n",
       "      <th>INSURANCE</th>\n",
       "      <td>0.000000</td>\n",
       "      <td>0.000000</td>\n",
       "      <td>0.808000</td>\n",
       "      <td>0.000000</td>\n",
       "      <td>0.088000</td>\n",
       "      <td>0.104000</td>\n",
       "    </tr>\n",
       "    <tr>\n",
       "      <th>MOTOR_EXPENSES</th>\n",
       "      <td>0.000000</td>\n",
       "      <td>0.149733</td>\n",
       "      <td>0.120321</td>\n",
       "      <td>0.502674</td>\n",
       "      <td>0.010695</td>\n",
       "      <td>0.216578</td>\n",
       "    </tr>\n",
       "    <tr>\n",
       "      <th>TRAVEL</th>\n",
       "      <td>0.000000</td>\n",
       "      <td>0.238095</td>\n",
       "      <td>0.000000</td>\n",
       "      <td>0.591837</td>\n",
       "      <td>0.000000</td>\n",
       "      <td>0.170068</td>\n",
       "    </tr>\n",
       "  </tbody>\n",
       "</table>\n",
       "</div>"
      ],
      "text/plain": [
       "bank_transaction_type           CHG       CSH        DD       DEB       FPO  \\\n",
       "bank_transaction_category                                                     \n",
       "ACCOMMODATION_AND_MEALS    0.000000  0.247326  0.000000  0.568182  0.121658   \n",
       "BANK_OR_FINANCE_CHARGES    0.890741  0.000000  0.000000  0.000000  0.072222   \n",
       "INSURANCE                  0.000000  0.000000  0.808000  0.000000  0.088000   \n",
       "MOTOR_EXPENSES             0.000000  0.149733  0.120321  0.502674  0.010695   \n",
       "TRAVEL                     0.000000  0.238095  0.000000  0.591837  0.000000   \n",
       "\n",
       "bank_transaction_type           MPO  \n",
       "bank_transaction_category            \n",
       "ACCOMMODATION_AND_MEALS    0.062834  \n",
       "BANK_OR_FINANCE_CHARGES    0.037037  \n",
       "INSURANCE                  0.104000  \n",
       "MOTOR_EXPENSES             0.216578  \n",
       "TRAVEL                     0.170068  "
      ]
     },
     "execution_count": 23,
     "metadata": {},
     "output_type": "execute_result"
    }
   ],
   "source": [
    "pd.crosstab(validation['bank_transaction_category'], validation[\"bank_transaction_type\"], normalize = 'index')"
   ]
  },
  {
   "cell_type": "code",
   "execution_count": 40,
   "metadata": {},
   "outputs": [
    {
     "data": {
      "text/plain": [
       "<seaborn.axisgrid.FacetGrid at 0x162c915dbb0>"
      ]
     },
     "execution_count": 40,
     "metadata": {},
     "output_type": "execute_result"
    },
    {
     "data": {
      "image/png": "[encoded data removed]",
      "text/plain": [
       "<Figure size 496.75x360 with 1 Axes>"
      ]
     },
     "metadata": {},
     "output_type": "display_data"
    }
   ],
   "source": [
    "# What does the distribution of transaction amounts look like for each category? Split by TRAIN and VAL\n",
    "dist_plot = sns.catplot(x=\"bank_transaction_category\", y=\"bank_transaction_amount\", \n",
    "                        hue=\"bank_transaction_dataset\", kind='box', data=labels_features)\n",
    "dist_plot.set_xticklabels([\"TRAVEL\", \"MOTOR\", \"ACC & FOOD\", \"BANK/FINANCE\", \"INSURANCE\"],rotation=30)"
   ]
  },
  {
   "cell_type": "code",
   "execution_count": 50,
   "metadata": {},
   "outputs": [
    {
     "data": {
      "image/png": "[encoded data removed]",
      "text/plain": [
       "<Figure size 432x288 with 1 Axes>"
      ]
     },
     "metadata": {},
     "output_type": "display_data"
    }
   ],
   "source": [
    "dist_plot = sns.scatterplot(x=\"desc_length\", y=\"bank_transaction_amount\", \n",
    "                        hue=\"bank_transaction_category\", y_jitter=1,data=labels_features, legend='brief')"
   ]
  },
  {
   "cell_type": "code",
   "execution_count": 25,
   "metadata": {},
   "outputs": [
    {
     "data": {
      "text/html": [
       "<div>\n",
       "<style scoped>\n",
       "    .dataframe tbody tr th:only-of-type {\n",
       "        vertical-align: middle;\n",
       "    }\n",
       "\n",
       "    .dataframe tbody tr th {\n",
       "        vertical-align: top;\n",
       "    }\n",
       "\n",
       "    .dataframe thead th {\n",
       "        text-align: right;\n",
       "    }\n",
       "</style>\n",
       "<table border=\"1\" class=\"dataframe\">\n",
       "  <thead>\n",
       "    <tr style=\"text-align: right;\">\n",
       "      <th></th>\n",
       "      <th>bank_transaction_id</th>\n",
       "      <th>bank_transaction_category</th>\n",
       "      <th>bank_transaction_dataset</th>\n",
       "      <th>bank_transaction_description</th>\n",
       "      <th>bank_transaction_amount</th>\n",
       "      <th>bank_transaction_type</th>\n",
       "      <th>desc_length</th>\n",
       "    </tr>\n",
       "  </thead>\n",
       "  <tbody>\n",
       "    <tr>\n",
       "      <th>0</th>\n",
       "      <td>21786195</td>\n",
       "      <td>TRAVEL</td>\n",
       "      <td>TRAIN</td>\n",
       "      <td>citylink</td>\n",
       "      <td>-13.80</td>\n",
       "      <td>MPO</td>\n",
       "      <td>8.0</td>\n",
       "    </tr>\n",
       "    <tr>\n",
       "      <th>1</th>\n",
       "      <td>21786196</td>\n",
       "      <td>TRAVEL</td>\n",
       "      <td>TRAIN</td>\n",
       "      <td>citylink</td>\n",
       "      <td>-13.14</td>\n",
       "      <td>DEB</td>\n",
       "      <td>8.0</td>\n",
       "    </tr>\n",
       "    <tr>\n",
       "      <th>2</th>\n",
       "      <td>21786197</td>\n",
       "      <td>TRAVEL</td>\n",
       "      <td>TRAIN</td>\n",
       "      <td>1Jul19 OYSTER</td>\n",
       "      <td>-36.98</td>\n",
       "      <td>DEB</td>\n",
       "      <td>13.0</td>\n",
       "    </tr>\n",
       "    <tr>\n",
       "      <th>3</th>\n",
       "      <td>21786198</td>\n",
       "      <td>TRAVEL</td>\n",
       "      <td>TRAIN</td>\n",
       "      <td>travelodge</td>\n",
       "      <td>-75.73</td>\n",
       "      <td>MPO</td>\n",
       "      <td>10.0</td>\n",
       "    </tr>\n",
       "    <tr>\n",
       "      <th>4</th>\n",
       "      <td>21786199</td>\n",
       "      <td>TRAVEL</td>\n",
       "      <td>TRAIN</td>\n",
       "      <td>6Jul19 RINGGO</td>\n",
       "      <td>-37.86</td>\n",
       "      <td>CSH</td>\n",
       "      <td>13.0</td>\n",
       "    </tr>\n",
       "  </tbody>\n",
       "</table>\n",
       "</div>"
      ],
      "text/plain": [
       "   bank_transaction_id bank_transaction_category bank_transaction_dataset  \\\n",
       "0             21786195                    TRAVEL                    TRAIN   \n",
       "1             21786196                    TRAVEL                    TRAIN   \n",
       "2             21786197                    TRAVEL                    TRAIN   \n",
       "3             21786198                    TRAVEL                    TRAIN   \n",
       "4             21786199                    TRAVEL                    TRAIN   \n",
       "\n",
       "  bank_transaction_description  bank_transaction_amount bank_transaction_type  \\\n",
       "0                     citylink                   -13.80                   MPO   \n",
       "1                     citylink                   -13.14                   DEB   \n",
       "2                1Jul19 OYSTER                   -36.98                   DEB   \n",
       "3                   travelodge                   -75.73                   MPO   \n",
       "4                6Jul19 RINGGO                   -37.86                   CSH   \n",
       "\n",
       "   desc_length  \n",
       "0          8.0  \n",
       "1          8.0  \n",
       "2         13.0  \n",
       "3         10.0  \n",
       "4         13.0  "
      ]
     },
     "execution_count": 25,
     "metadata": {},
     "output_type": "execute_result"
    }
   ],
   "source": [
    "labels_features.head()"
   ]
  },
  {
   "cell_type": "code",
   "execution_count": 26,
   "metadata": {},
   "outputs": [
    {
     "data": {
      "text/html": [
       "<div>\n",
       "<style scoped>\n",
       "    .dataframe tbody tr th:only-of-type {\n",
       "        vertical-align: middle;\n",
       "    }\n",
       "\n",
       "    .dataframe tbody tr th {\n",
       "        vertical-align: top;\n",
       "    }\n",
       "\n",
       "    .dataframe thead th {\n",
       "        text-align: right;\n",
       "    }\n",
       "</style>\n",
       "<table border=\"1\" class=\"dataframe\">\n",
       "  <thead>\n",
       "    <tr style=\"text-align: right;\">\n",
       "      <th></th>\n",
       "      <th>bank_transaction_id</th>\n",
       "      <th>bank_transaction_category</th>\n",
       "      <th>bank_transaction_dataset</th>\n",
       "      <th>bank_transaction_description</th>\n",
       "      <th>bank_transaction_amount</th>\n",
       "      <th>bank_transaction_type</th>\n",
       "      <th>desc_length</th>\n",
       "      <th>bank_transaction_type_code</th>\n",
       "    </tr>\n",
       "  </thead>\n",
       "  <tbody>\n",
       "    <tr>\n",
       "      <th>0</th>\n",
       "      <td>21786195</td>\n",
       "      <td>TRAVEL</td>\n",
       "      <td>TRAIN</td>\n",
       "      <td>citylink</td>\n",
       "      <td>-13.80</td>\n",
       "      <td>MPO</td>\n",
       "      <td>8.0</td>\n",
       "      <td>5</td>\n",
       "    </tr>\n",
       "    <tr>\n",
       "      <th>1</th>\n",
       "      <td>21786196</td>\n",
       "      <td>TRAVEL</td>\n",
       "      <td>TRAIN</td>\n",
       "      <td>citylink</td>\n",
       "      <td>-13.14</td>\n",
       "      <td>DEB</td>\n",
       "      <td>8.0</td>\n",
       "      <td>3</td>\n",
       "    </tr>\n",
       "    <tr>\n",
       "      <th>2</th>\n",
       "      <td>21786197</td>\n",
       "      <td>TRAVEL</td>\n",
       "      <td>TRAIN</td>\n",
       "      <td>1Jul19 OYSTER</td>\n",
       "      <td>-36.98</td>\n",
       "      <td>DEB</td>\n",
       "      <td>13.0</td>\n",
       "      <td>3</td>\n",
       "    </tr>\n",
       "    <tr>\n",
       "      <th>3</th>\n",
       "      <td>21786198</td>\n",
       "      <td>TRAVEL</td>\n",
       "      <td>TRAIN</td>\n",
       "      <td>travelodge</td>\n",
       "      <td>-75.73</td>\n",
       "      <td>MPO</td>\n",
       "      <td>10.0</td>\n",
       "      <td>5</td>\n",
       "    </tr>\n",
       "    <tr>\n",
       "      <th>4</th>\n",
       "      <td>21786199</td>\n",
       "      <td>TRAVEL</td>\n",
       "      <td>TRAIN</td>\n",
       "      <td>6Jul19 RINGGO</td>\n",
       "      <td>-37.86</td>\n",
       "      <td>CSH</td>\n",
       "      <td>13.0</td>\n",
       "      <td>1</td>\n",
       "    </tr>\n",
       "  </tbody>\n",
       "</table>\n",
       "</div>"
      ],
      "text/plain": [
       "   bank_transaction_id bank_transaction_category bank_transaction_dataset  \\\n",
       "0             21786195                    TRAVEL                    TRAIN   \n",
       "1             21786196                    TRAVEL                    TRAIN   \n",
       "2             21786197                    TRAVEL                    TRAIN   \n",
       "3             21786198                    TRAVEL                    TRAIN   \n",
       "4             21786199                    TRAVEL                    TRAIN   \n",
       "\n",
       "  bank_transaction_description  bank_transaction_amount bank_transaction_type  \\\n",
       "0                     citylink                   -13.80                   MPO   \n",
       "1                     citylink                   -13.14                   DEB   \n",
       "2                1Jul19 OYSTER                   -36.98                   DEB   \n",
       "3                   travelodge                   -75.73                   MPO   \n",
       "4                6Jul19 RINGGO                   -37.86                   CSH   \n",
       "\n",
       "   desc_length  bank_transaction_type_code  \n",
       "0          8.0                           5  \n",
       "1          8.0                           3  \n",
       "2         13.0                           3  \n",
       "3         10.0                           5  \n",
       "4         13.0                           1  "
      ]
     },
     "execution_count": 26,
     "metadata": {},
     "output_type": "execute_result"
    }
   ],
   "source": [
    "# Question 2 - Now start to build a transaction classification model\n",
    "# Convert Bank Transaction Type\n",
    "labels_features[\"bank_transaction_type\"] = labels_features[\"bank_transaction_type\"].astype('category')\n",
    "labels_features.dtypes\n",
    "labels_features[\"bank_transaction_type_code\"] = labels_features[\"bank_transaction_type\"].cat.codes\n",
    "labels_features.head()\n"
   ]
  },
  {
   "cell_type": "code",
   "execution_count": 27,
   "metadata": {},
   "outputs": [
    {
     "data": {
      "text/html": [
       "<div>\n",
       "<style scoped>\n",
       "    .dataframe tbody tr th:only-of-type {\n",
       "        vertical-align: middle;\n",
       "    }\n",
       "\n",
       "    .dataframe tbody tr th {\n",
       "        vertical-align: top;\n",
       "    }\n",
       "\n",
       "    .dataframe thead th {\n",
       "        text-align: right;\n",
       "    }\n",
       "</style>\n",
       "<table border=\"1\" class=\"dataframe\">\n",
       "  <thead>\n",
       "    <tr style=\"text-align: right;\">\n",
       "      <th></th>\n",
       "      <th>bank_transaction_id</th>\n",
       "      <th>bank_transaction_category</th>\n",
       "      <th>bank_transaction_dataset</th>\n",
       "      <th>bank_transaction_description</th>\n",
       "      <th>bank_transaction_amount</th>\n",
       "      <th>bank_transaction_type</th>\n",
       "      <th>desc_length</th>\n",
       "      <th>bank_transaction_type_code</th>\n",
       "    </tr>\n",
       "  </thead>\n",
       "  <tbody>\n",
       "    <tr>\n",
       "      <th>0</th>\n",
       "      <td>21786195</td>\n",
       "      <td>TRAVEL</td>\n",
       "      <td>TRAIN</td>\n",
       "      <td>citylink</td>\n",
       "      <td>-13.80</td>\n",
       "      <td>MPO</td>\n",
       "      <td>8.0</td>\n",
       "      <td>5</td>\n",
       "    </tr>\n",
       "    <tr>\n",
       "      <th>1</th>\n",
       "      <td>21786196</td>\n",
       "      <td>TRAVEL</td>\n",
       "      <td>TRAIN</td>\n",
       "      <td>citylink</td>\n",
       "      <td>-13.14</td>\n",
       "      <td>DEB</td>\n",
       "      <td>8.0</td>\n",
       "      <td>3</td>\n",
       "    </tr>\n",
       "    <tr>\n",
       "      <th>2</th>\n",
       "      <td>21786197</td>\n",
       "      <td>TRAVEL</td>\n",
       "      <td>TRAIN</td>\n",
       "      <td>1Jul19 OYSTER</td>\n",
       "      <td>-36.98</td>\n",
       "      <td>DEB</td>\n",
       "      <td>13.0</td>\n",
       "      <td>3</td>\n",
       "    </tr>\n",
       "    <tr>\n",
       "      <th>3</th>\n",
       "      <td>21786198</td>\n",
       "      <td>TRAVEL</td>\n",
       "      <td>TRAIN</td>\n",
       "      <td>travelodge</td>\n",
       "      <td>-75.73</td>\n",
       "      <td>MPO</td>\n",
       "      <td>10.0</td>\n",
       "      <td>5</td>\n",
       "    </tr>\n",
       "    <tr>\n",
       "      <th>4</th>\n",
       "      <td>21786199</td>\n",
       "      <td>TRAVEL</td>\n",
       "      <td>TRAIN</td>\n",
       "      <td>6Jul19 RINGGO</td>\n",
       "      <td>-37.86</td>\n",
       "      <td>CSH</td>\n",
       "      <td>13.0</td>\n",
       "      <td>1</td>\n",
       "    </tr>\n",
       "  </tbody>\n",
       "</table>\n",
       "</div>"
      ],
      "text/plain": [
       "   bank_transaction_id bank_transaction_category bank_transaction_dataset  \\\n",
       "0             21786195                    TRAVEL                    TRAIN   \n",
       "1             21786196                    TRAVEL                    TRAIN   \n",
       "2             21786197                    TRAVEL                    TRAIN   \n",
       "3             21786198                    TRAVEL                    TRAIN   \n",
       "4             21786199                    TRAVEL                    TRAIN   \n",
       "\n",
       "  bank_transaction_description  bank_transaction_amount bank_transaction_type  \\\n",
       "0                     citylink                   -13.80                   MPO   \n",
       "1                     citylink                   -13.14                   DEB   \n",
       "2                1Jul19 OYSTER                   -36.98                   DEB   \n",
       "3                   travelodge                   -75.73                   MPO   \n",
       "4                6Jul19 RINGGO                   -37.86                   CSH   \n",
       "\n",
       "   desc_length  bank_transaction_type_code  \n",
       "0          8.0                           5  \n",
       "1          8.0                           3  \n",
       "2         13.0                           3  \n",
       "3         10.0                           5  \n",
       "4         13.0                           1  "
      ]
     },
     "execution_count": 27,
     "metadata": {},
     "output_type": "execute_result"
    }
   ],
   "source": [
    "labels_features.head()"
   ]
  },
  {
   "cell_type": "code",
   "execution_count": 28,
   "metadata": {},
   "outputs": [],
   "source": [
    "# Drop NaNs - investigated above and very small proportion\n",
    "labels_features = labels_features.dropna()"
   ]
  },
  {
   "cell_type": "code",
   "execution_count": 29,
   "metadata": {},
   "outputs": [],
   "source": [
    "# Split into features and labels, train and validation sets\n",
    "# Structure: we have 3 features: \"bank_transaction_amount\", \"desc_length\", \"bank_transaction_type\"\n",
    "#            all will be used to predict \"bank_transaction_category\"\n",
    "y_train = labels_features[\"bank_transaction_category\"][labels_features[\"bank_transaction_dataset\"]==\"TRAIN\"]\n",
    "X_train = labels_features.filter(items=[\"bank_transaction_amount\", \"desc_length\", \"bank_transaction_type_code\"])[labels_features[\"bank_transaction_dataset\"]==\"TRAIN\"]\n"
   ]
  },
  {
   "cell_type": "code",
   "execution_count": 30,
   "metadata": {},
   "outputs": [
    {
     "data": {
      "text/plain": [
       "0          TRAVEL\n",
       "1          TRAVEL\n",
       "2          TRAVEL\n",
       "3          TRAVEL\n",
       "4          TRAVEL\n",
       "          ...    \n",
       "9995    INSURANCE\n",
       "9996    INSURANCE\n",
       "9997    INSURANCE\n",
       "9998    INSURANCE\n",
       "9999    INSURANCE\n",
       "Name: bank_transaction_category, Length: 9891, dtype: object"
      ]
     },
     "execution_count": 30,
     "metadata": {},
     "output_type": "execute_result"
    }
   ],
   "source": [
    "y_train"
   ]
  },
  {
   "cell_type": "code",
   "execution_count": 31,
   "metadata": {},
   "outputs": [
    {
     "data": {
      "text/html": [
       "<div>\n",
       "<style scoped>\n",
       "    .dataframe tbody tr th:only-of-type {\n",
       "        vertical-align: middle;\n",
       "    }\n",
       "\n",
       "    .dataframe tbody tr th {\n",
       "        vertical-align: top;\n",
       "    }\n",
       "\n",
       "    .dataframe thead th {\n",
       "        text-align: right;\n",
       "    }\n",
       "</style>\n",
       "<table border=\"1\" class=\"dataframe\">\n",
       "  <thead>\n",
       "    <tr style=\"text-align: right;\">\n",
       "      <th></th>\n",
       "      <th>bank_transaction_amount</th>\n",
       "      <th>desc_length</th>\n",
       "      <th>bank_transaction_type_code</th>\n",
       "    </tr>\n",
       "  </thead>\n",
       "  <tbody>\n",
       "    <tr>\n",
       "      <th>0</th>\n",
       "      <td>-13.80</td>\n",
       "      <td>8.0</td>\n",
       "      <td>5</td>\n",
       "    </tr>\n",
       "    <tr>\n",
       "      <th>1</th>\n",
       "      <td>-13.14</td>\n",
       "      <td>8.0</td>\n",
       "      <td>3</td>\n",
       "    </tr>\n",
       "    <tr>\n",
       "      <th>2</th>\n",
       "      <td>-36.98</td>\n",
       "      <td>13.0</td>\n",
       "      <td>3</td>\n",
       "    </tr>\n",
       "    <tr>\n",
       "      <th>3</th>\n",
       "      <td>-75.73</td>\n",
       "      <td>10.0</td>\n",
       "      <td>5</td>\n",
       "    </tr>\n",
       "    <tr>\n",
       "      <th>4</th>\n",
       "      <td>-37.86</td>\n",
       "      <td>13.0</td>\n",
       "      <td>1</td>\n",
       "    </tr>\n",
       "    <tr>\n",
       "      <th>...</th>\n",
       "      <td>...</td>\n",
       "      <td>...</td>\n",
       "      <td>...</td>\n",
       "    </tr>\n",
       "    <tr>\n",
       "      <th>9995</th>\n",
       "      <td>-23.50</td>\n",
       "      <td>27.0</td>\n",
       "      <td>2</td>\n",
       "    </tr>\n",
       "    <tr>\n",
       "      <th>9996</th>\n",
       "      <td>-25.75</td>\n",
       "      <td>37.0</td>\n",
       "      <td>2</td>\n",
       "    </tr>\n",
       "    <tr>\n",
       "      <th>9997</th>\n",
       "      <td>-25.76</td>\n",
       "      <td>24.0</td>\n",
       "      <td>2</td>\n",
       "    </tr>\n",
       "    <tr>\n",
       "      <th>9998</th>\n",
       "      <td>-21.21</td>\n",
       "      <td>24.0</td>\n",
       "      <td>5</td>\n",
       "    </tr>\n",
       "    <tr>\n",
       "      <th>9999</th>\n",
       "      <td>-25.96</td>\n",
       "      <td>29.0</td>\n",
       "      <td>2</td>\n",
       "    </tr>\n",
       "  </tbody>\n",
       "</table>\n",
       "<p>9891 rows × 3 columns</p>\n",
       "</div>"
      ],
      "text/plain": [
       "      bank_transaction_amount  desc_length  bank_transaction_type_code\n",
       "0                      -13.80          8.0                           5\n",
       "1                      -13.14          8.0                           3\n",
       "2                      -36.98         13.0                           3\n",
       "3                      -75.73         10.0                           5\n",
       "4                      -37.86         13.0                           1\n",
       "...                       ...          ...                         ...\n",
       "9995                   -23.50         27.0                           2\n",
       "9996                   -25.75         37.0                           2\n",
       "9997                   -25.76         24.0                           2\n",
       "9998                   -21.21         24.0                           5\n",
       "9999                   -25.96         29.0                           2\n",
       "\n",
       "[9891 rows x 3 columns]"
      ]
     },
     "execution_count": 31,
     "metadata": {},
     "output_type": "execute_result"
    }
   ],
   "source": [
    "X_train"
   ]
  },
  {
   "cell_type": "code",
   "execution_count": 32,
   "metadata": {},
   "outputs": [],
   "source": [
    "y_test = labels_features[\"bank_transaction_category\"][labels_features[\"bank_transaction_dataset\"]==\"VAL\"]\n",
    "X_test = labels_features.filter(items=[\"bank_transaction_amount\", \"desc_length\", \"bank_transaction_type_code\"])[labels_features[\"bank_transaction_dataset\"]==\"VAL\"]\n"
   ]
  },
  {
   "cell_type": "code",
   "execution_count": 33,
   "metadata": {},
   "outputs": [
    {
     "data": {
      "text/plain": [
       "10000       TRAVEL\n",
       "10001       TRAVEL\n",
       "10002       TRAVEL\n",
       "10003       TRAVEL\n",
       "10004       TRAVEL\n",
       "           ...    \n",
       "12495    INSURANCE\n",
       "12496    INSURANCE\n",
       "12497    INSURANCE\n",
       "12498    INSURANCE\n",
       "12499    INSURANCE\n",
       "Name: bank_transaction_category, Length: 2478, dtype: object"
      ]
     },
     "execution_count": 33,
     "metadata": {},
     "output_type": "execute_result"
    }
   ],
   "source": [
    "y_test"
   ]
  },
  {
   "cell_type": "code",
   "execution_count": 34,
   "metadata": {},
   "outputs": [
    {
     "data": {
      "text/html": [
       "<div>\n",
       "<style scoped>\n",
       "    .dataframe tbody tr th:only-of-type {\n",
       "        vertical-align: middle;\n",
       "    }\n",
       "\n",
       "    .dataframe tbody tr th {\n",
       "        vertical-align: top;\n",
       "    }\n",
       "\n",
       "    .dataframe thead th {\n",
       "        text-align: right;\n",
       "    }\n",
       "</style>\n",
       "<table border=\"1\" class=\"dataframe\">\n",
       "  <thead>\n",
       "    <tr style=\"text-align: right;\">\n",
       "      <th></th>\n",
       "      <th>bank_transaction_amount</th>\n",
       "      <th>desc_length</th>\n",
       "      <th>bank_transaction_type_code</th>\n",
       "    </tr>\n",
       "  </thead>\n",
       "  <tbody>\n",
       "    <tr>\n",
       "      <th>10000</th>\n",
       "      <td>-12.70</td>\n",
       "      <td>20.0</td>\n",
       "      <td>3</td>\n",
       "    </tr>\n",
       "    <tr>\n",
       "      <th>10001</th>\n",
       "      <td>-24.49</td>\n",
       "      <td>7.0</td>\n",
       "      <td>3</td>\n",
       "    </tr>\n",
       "    <tr>\n",
       "      <th>10002</th>\n",
       "      <td>-38.81</td>\n",
       "      <td>19.0</td>\n",
       "      <td>3</td>\n",
       "    </tr>\n",
       "    <tr>\n",
       "      <th>10003</th>\n",
       "      <td>-32.75</td>\n",
       "      <td>8.0</td>\n",
       "      <td>3</td>\n",
       "    </tr>\n",
       "    <tr>\n",
       "      <th>10004</th>\n",
       "      <td>-21.10</td>\n",
       "      <td>60.0</td>\n",
       "      <td>1</td>\n",
       "    </tr>\n",
       "    <tr>\n",
       "      <th>...</th>\n",
       "      <td>...</td>\n",
       "      <td>...</td>\n",
       "      <td>...</td>\n",
       "    </tr>\n",
       "    <tr>\n",
       "      <th>12495</th>\n",
       "      <td>-28.46</td>\n",
       "      <td>9.0</td>\n",
       "      <td>4</td>\n",
       "    </tr>\n",
       "    <tr>\n",
       "      <th>12496</th>\n",
       "      <td>-35.64</td>\n",
       "      <td>34.0</td>\n",
       "      <td>4</td>\n",
       "    </tr>\n",
       "    <tr>\n",
       "      <th>12497</th>\n",
       "      <td>-22.37</td>\n",
       "      <td>35.0</td>\n",
       "      <td>2</td>\n",
       "    </tr>\n",
       "    <tr>\n",
       "      <th>12498</th>\n",
       "      <td>-23.11</td>\n",
       "      <td>30.0</td>\n",
       "      <td>2</td>\n",
       "    </tr>\n",
       "    <tr>\n",
       "      <th>12499</th>\n",
       "      <td>-24.15</td>\n",
       "      <td>24.0</td>\n",
       "      <td>2</td>\n",
       "    </tr>\n",
       "  </tbody>\n",
       "</table>\n",
       "<p>2478 rows × 3 columns</p>\n",
       "</div>"
      ],
      "text/plain": [
       "       bank_transaction_amount  desc_length  bank_transaction_type_code\n",
       "10000                   -12.70         20.0                           3\n",
       "10001                   -24.49          7.0                           3\n",
       "10002                   -38.81         19.0                           3\n",
       "10003                   -32.75          8.0                           3\n",
       "10004                   -21.10         60.0                           1\n",
       "...                        ...          ...                         ...\n",
       "12495                   -28.46          9.0                           4\n",
       "12496                   -35.64         34.0                           4\n",
       "12497                   -22.37         35.0                           2\n",
       "12498                   -23.11         30.0                           2\n",
       "12499                   -24.15         24.0                           2\n",
       "\n",
       "[2478 rows x 3 columns]"
      ]
     },
     "execution_count": 34,
     "metadata": {},
     "output_type": "execute_result"
    }
   ],
   "source": [
    "X_test"
   ]
  },
  {
   "cell_type": "code",
   "execution_count": 35,
   "metadata": {},
   "outputs": [
    {
     "data": {
      "text/plain": [
       "SVC()"
      ]
     },
     "execution_count": 35,
     "metadata": {},
     "output_type": "execute_result"
    }
   ],
   "source": [
    "# Initialise the SVM Model\n",
    "model_svm = svm.SVC()\n",
    "model_svm.fit(X_train,y_train)"
   ]
  },
  {
   "cell_type": "code",
   "execution_count": 36,
   "metadata": {},
   "outputs": [],
   "source": [
    "# Run predictions and some metrics\n",
    "prediction_svm = model_svm.predict(X_test)\n",
    "acc_svm = accuracy_score(y_test, prediction_svm)\n",
    "cm = confusion_matrix(y_test, prediction_svm)"
   ]
  },
  {
   "cell_type": "code",
   "execution_count": 37,
   "metadata": {},
   "outputs": [
    {
     "name": "stdout",
     "output_type": "stream",
     "text": [
      "SVM accuracy:  0.579499596448749\n"
     ]
    }
   ],
   "source": [
    "# Print Some stats\n",
    "print(\"SVM accuracy: \", acc_svm)"
   ]
  },
  {
   "cell_type": "code",
   "execution_count": 38,
   "metadata": {},
   "outputs": [
    {
     "name": "stderr",
     "output_type": "stream",
     "text": [
      "<ipython-input-38-e975ccc33c0d>:8: UserWarning: FixedFormatter should only be used together with FixedLocator\n",
      "  ax.set_xticklabels([''] + labels, rotation=45)\n",
      "<ipython-input-38-e975ccc33c0d>:9: UserWarning: FixedFormatter should only be used together with FixedLocator\n",
      "  ax.set_yticklabels([''] + labels, rotation=30)\n"
     ]
    },
    {
     "data": {
      "image/png": "[encoded data removed]",
      "text/plain": [
       "<Figure size 432x288 with 2 Axes>"
      ]
     },
     "metadata": {},
     "output_type": "display_data"
    }
   ],
   "source": [
    "labels = [\"ACC & FOOD\",\"BANK/FINANCE\", \"INSURANCE\",\"MOTOR EXPENSES\", \"TRAVEL\"]\n",
    "cm = confusion_matrix(y_test, prediction_svm)\n",
    "fig = plt.figure() \n",
    "ax = fig.add_subplot(111) \n",
    "cax = ax.matshow(cm) \n",
    "plt.title('Confusion matrix of the classifier') \n",
    "fig.colorbar(cax) \n",
    "ax.set_xticklabels([''] + labels, rotation=45) \n",
    "ax.set_yticklabels([''] + labels, rotation=30) \n",
    "plt.xlabel('Predicted') \n",
    "plt.ylabel('True') \n",
    "plt.show()"
   ]
  },
  {
   "cell_type": "code",
   "execution_count": 39,
   "metadata": {},
   "outputs": [
    {
     "name": "stdout",
     "output_type": "stream",
     "text": [
      "[[711  34   0   1   2]\n",
      " [  0 518   0   0   0]\n",
      " [241   0   0   1   8]\n",
      " [307  18   0   3  46]\n",
      " [366  18   0   0 204]]\n"
     ]
    }
   ],
   "source": [
    "print(cm)"
   ]
  },
  {
   "cell_type": "code",
   "execution_count": null,
   "metadata": {},
   "outputs": [],
   "source": []
  }
 ],
 "metadata": {
  "kernelspec": {
   "display_name": "Python 3",
   "language": "python",
   "name": "python3"
  },
  "language_info": {
   "codemirror_mode": {
    "name": "ipython",
    "version": 3
   },
   "file_extension": ".py",
   "mimetype": "text/x-python",
   "name": "python",
   "nbconvert_exporter": "python",
   "pygments_lexer": "ipython3",
   "version": "3.8.5"
  }
 },
 "nbformat": 4,
 "nbformat_minor": 4
}
